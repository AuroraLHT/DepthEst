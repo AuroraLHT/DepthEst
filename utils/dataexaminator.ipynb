{
 "cells": [
  {
   "cell_type": "code",
   "execution_count": 1,
   "metadata": {},
   "outputs": [],
   "source": [
    "import os\n",
    "import sys\n",
    "from pathlib import Path"
   ]
  },
  {
   "cell_type": "code",
   "execution_count": 2,
   "metadata": {},
   "outputs": [],
   "source": [
    "import pandas as pd\n",
    "import numpy as np\n",
    "import seaborn as sns\n",
    "import matplotlib.pyplot as plt"
   ]
  },
  {
   "cell_type": "markdown",
   "metadata": {},
   "source": [
    "# Unzip the file (old) - Don't run if already run extract.sh"
   ]
  },
  {
   "cell_type": "code",
   "execution_count": null,
   "metadata": {},
   "outputs": [],
   "source": [
    "zipfiles = !ls | grep \".zip\""
   ]
  },
  {
   "cell_type": "code",
   "execution_count": null,
   "metadata": {},
   "outputs": [],
   "source": [
    "# importing required modules\n",
    "from zipfile import ZipFile\n",
    "\n",
    "def pyunzip(file_name):\n",
    "    # opening the zip file in READ mode\n",
    "    with ZipFile(file_name, 'r') as zip:\n",
    "        # printing all the contents of the zip file\n",
    "        zip.printdir()\n",
    "\n",
    "        # extracting all the files\n",
    "        print('Extracting all the files now...')\n",
    "        zip.extractall()\n",
    "        print('Done!')"
   ]
  },
  {
   "cell_type": "code",
   "execution_count": null,
   "metadata": {},
   "outputs": [],
   "source": [
    "dontuse = ['velodyne_points', 'image_00', 'image_01']\n",
    "for zf in zipfiles:\n",
    "    !unzip {zf}\n",
    "    where = \"{}/{}\".format(zf[:10], zf[:-4])\n",
    "    for du in dontuse:\n",
    "        !rm -r {where+'/'+du}"
   ]
  },
  {
   "cell_type": "code",
   "execution_count": null,
   "metadata": {},
   "outputs": [],
   "source": [
    "zipfiles[0][:-4]"
   ]
  },
  {
   "cell_type": "markdown",
   "metadata": {},
   "source": [
    "# Examinating one of the extracted zip"
   ]
  },
  {
   "cell_type": "code",
   "execution_count": null,
   "metadata": {},
   "outputs": [],
   "source": [
    "ls"
   ]
  },
  {
   "cell_type": "code",
   "execution_count": 3,
   "metadata": {},
   "outputs": [
    {
     "data": {
      "text/plain": [
       "[PosixPath('2011_09_29'),\n",
       " PosixPath('2011_09_30'),\n",
       " PosixPath('2011_09_26'),\n",
       " PosixPath('2011_09_28'),\n",
       " PosixPath('2011_10_03')]"
      ]
     },
     "execution_count": 3,
     "metadata": {},
     "output_type": "execute_result"
    }
   ],
   "source": [
    "roots = Path('.').iterdir()\n",
    "\n",
    "roots=list(roots)\n",
    "\n",
    "roots = [root for root in roots if root.is_dir() and root.name!='.ipynb_checkpoints']\n",
    "\n",
    "roots"
   ]
  },
  {
   "cell_type": "code",
   "execution_count": 4,
   "metadata": {},
   "outputs": [
    {
     "data": {
      "text/plain": [
       "PosixPath('2011_09_28/2011_09_28_drive_0134_sync')"
      ]
     },
     "execution_count": 4,
     "metadata": {},
     "output_type": "execute_result"
    }
   ],
   "source": [
    "root = np.random.choice(roots)\n",
    "\n",
    "folder = np.random.choice( tuple(root.iterdir()) ); folder"
   ]
  },
  {
   "cell_type": "code",
   "execution_count": 5,
   "metadata": {},
   "outputs": [],
   "source": [
    "img02 = folder /'image_02'\n",
    "img03 = folder /'image_03'"
   ]
  },
  {
   "cell_type": "code",
   "execution_count": 6,
   "metadata": {},
   "outputs": [
    {
     "data": {
      "text/plain": [
       "['timestamps.txt', 'data']"
      ]
     },
     "execution_count": 6,
     "metadata": {},
     "output_type": "execute_result"
    }
   ],
   "source": [
    "os.listdir(str(img02))"
   ]
  },
  {
   "cell_type": "code",
   "execution_count": 7,
   "metadata": {},
   "outputs": [],
   "source": [
    "img02d = img02/'data'\n",
    "img03d = img03/'data'"
   ]
  },
  {
   "cell_type": "code",
   "execution_count": 8,
   "metadata": {},
   "outputs": [],
   "source": [
    "img02ds = sorted(os.listdir(str(img02d)))\n",
    "img03ds = sorted(os.listdir(str(img03d)))"
   ]
  },
  {
   "cell_type": "code",
   "execution_count": 9,
   "metadata": {},
   "outputs": [
    {
     "data": {
      "text/plain": [
       "(('0000000000.png', '0000000000.png'),\n",
       " ('0000000001.png', '0000000001.png'),\n",
       " ('0000000002.png', '0000000002.png'),\n",
       " ('0000000003.png', '0000000003.png'),\n",
       " ('0000000004.png', '0000000004.png'))"
      ]
     },
     "execution_count": 9,
     "metadata": {},
     "output_type": "execute_result"
    }
   ],
   "source": [
    "tuple(zip( img02ds[:5], img03ds[:5]))"
   ]
  },
  {
   "cell_type": "code",
   "execution_count": 10,
   "metadata": {},
   "outputs": [],
   "source": [
    "assert img02ds == img03ds"
   ]
  },
  {
   "cell_type": "code",
   "execution_count": 11,
   "metadata": {},
   "outputs": [
    {
     "name": "stdout",
     "output_type": "stream",
     "text": [
      "2011-09-28 13:49:44.755371520\n",
      "2011-09-28 13:49:44.858636544\n",
      "2011-09-28 13:49:44.961804288\n",
      "2011-09-28 13:49:45.065025280\n",
      "2011-09-28 13:49:45.168167680\n",
      "2011-09-28 13:49:45.271425536\n",
      "2011-09-28 13:49:45.\n"
     ]
    }
   ],
   "source": [
    "with open(str(img02/'timestamps.txt')) as f:\n",
    "    print(f.read()[:200])"
   ]
  },
  {
   "cell_type": "code",
   "execution_count": 12,
   "metadata": {},
   "outputs": [
    {
     "name": "stdout",
     "output_type": "stream",
     "text": [
      "2011-09-28 13:49:44.754877696\n",
      "2011-09-28 13:49:44.858016768\n",
      "2011-09-28 13:49:44.961296640\n",
      "2011-09-28 13:49:45.064413952\n",
      "2011-09-28 13:49:45.167686912\n",
      "2011-09-28 13:49:45.270814464\n",
      "2011-09-28 13:49:45.\n"
     ]
    }
   ],
   "source": [
    "with open(str(img03/'timestamps.txt')) as f:\n",
    "    print(f.read()[:200])"
   ]
  },
  {
   "cell_type": "markdown",
   "metadata": {},
   "source": [
    "# Visualization"
   ]
  },
  {
   "cell_type": "code",
   "execution_count": null,
   "metadata": {},
   "outputs": [],
   "source": [
    "import matplotlib.animation as animation"
   ]
  },
  {
   "cell_type": "code",
   "execution_count": null,
   "metadata": {},
   "outputs": [],
   "source": [
    "fig, ax = plt.subplots()\n",
    "\n",
    "shape = plt.imread(str(img02d/img02ds[0])).shape\n",
    "im = ax.imshow(np.zeros(shape), animated=True)\n",
    "\n",
    "def frame(paths, root):\n",
    "    for path in paths:\n",
    "        yield plt.imread(str(root/path))\n",
    "\n",
    "def animate(img):\n",
    "    im.set_array(img)  # update the data\n",
    "    return im\n",
    "\n",
    "# Init only required for blitting to give a clean slate.\n",
    "def init(imgsample):\n",
    "    im.set_array(np.zeros(shape))\n",
    "    return im\n",
    "\n",
    "ani = animation.FuncAnimation(fig, animate, frame(img02ds, img02d), interval=25, blit=True)\n",
    "plt.show()"
   ]
  },
  {
   "cell_type": "code",
   "execution_count": null,
   "metadata": {},
   "outputs": [],
   "source": [
    "for img in img02ds[:10]:\n",
    "    plt.imshow(plt.imread(str(img02d/img)))\n",
    "    plt.show()"
   ]
  },
  {
   "cell_type": "code",
   "execution_count": null,
   "metadata": {},
   "outputs": [],
   "source": [
    "shape = plt.imread(str(img02d/img)).shape; shape"
   ]
  },
  {
   "cell_type": "code",
   "execution_count": null,
   "metadata": {},
   "outputs": [],
   "source": [
    "shape = np.array(shape[:2])"
   ]
  },
  {
   "cell_type": "code",
   "execution_count": null,
   "metadata": {},
   "outputs": [],
   "source": [
    "shape/ shape[0]"
   ]
  },
  {
   "cell_type": "code",
   "execution_count": 13,
   "metadata": {},
   "outputs": [],
   "source": [
    "def gene_tri(imgs):\n",
    "    return imgs[0:-2], imgs[1:-1], imgs[2:] "
   ]
  },
  {
   "cell_type": "code",
   "execution_count": 14,
   "metadata": {},
   "outputs": [],
   "source": [
    "tris = gene_tri(img02ds)"
   ]
  },
  {
   "cell_type": "code",
   "execution_count": 15,
   "metadata": {},
   "outputs": [],
   "source": [
    "tris = tuple( zip(*tris) )"
   ]
  },
  {
   "cell_type": "code",
   "execution_count": 16,
   "metadata": {},
   "outputs": [
    {
     "data": {
      "text/plain": [
       "('0000000000.png', '0000000001.png', '0000000002.png')"
      ]
     },
     "execution_count": 16,
     "metadata": {},
     "output_type": "execute_result"
    }
   ],
   "source": [
    "tris[0]"
   ]
  },
  {
   "cell_type": "code",
   "execution_count": null,
   "metadata": {},
   "outputs": [],
   "source": [
    "def plot_tri(tri, path):\n",
    "    f, axs=plt.subplots(3,1, figsize=(20, 6))\n",
    "    for i, img in enumerate(tri):\n",
    "        axs[i].imshow(plt.imread(str(path/img)))\n",
    "        axs[i].set_axis_off()\n",
    "    plt.show()"
   ]
  },
  {
   "cell_type": "code",
   "execution_count": null,
   "metadata": {},
   "outputs": [],
   "source": [
    "print(tris[1])\n",
    "plot_tri(tris[1], img02d)"
   ]
  },
  {
   "cell_type": "code",
   "execution_count": null,
   "metadata": {},
   "outputs": [],
   "source": [
    "def stero_pair(pair, img):\n",
    "    f, axs=plt.subplots(1,2, figsize=(24, 4))\n",
    "    for i, loc in enumerate(pair):\n",
    "        axs[i].imshow(plt.imread(str(loc/img)))\n",
    "        axs[i].set_axis_off()\n",
    "    plt.show()"
   ]
  },
  {
   "cell_type": "code",
   "execution_count": null,
   "metadata": {},
   "outputs": [],
   "source": [
    "stero_pair((img02d, img03d), img02ds[0] )"
   ]
  },
  {
   "cell_type": "markdown",
   "metadata": {},
   "source": [
    "# Convert the directory to csv"
   ]
  },
  {
   "cell_type": "code",
   "execution_count": 19,
   "metadata": {},
   "outputs": [
    {
     "data": {
      "text/plain": [
       "[PosixPath('2011_09_29'),\n",
       " PosixPath('2011_09_30'),\n",
       " PosixPath('2011_09_26'),\n",
       " PosixPath('2011_09_28'),\n",
       " PosixPath('2011_10_03')]"
      ]
     },
     "execution_count": 19,
     "metadata": {},
     "output_type": "execute_result"
    }
   ],
   "source": [
    "roots"
   ]
  },
  {
   "cell_type": "code",
   "execution_count": 20,
   "metadata": {},
   "outputs": [
    {
     "data": {
      "text/plain": [
       "PosixPath('2011_09_28/2011_09_28_drive_0134_sync')"
      ]
     },
     "execution_count": 20,
     "metadata": {},
     "output_type": "execute_result"
    }
   ],
   "source": [
    "folder"
   ]
  },
  {
   "cell_type": "code",
   "execution_count": 21,
   "metadata": {},
   "outputs": [],
   "source": [
    "for root in roots:\n",
    "    timgs0, timgs1, timgs2 = [], [], []\n",
    "    folders = root.glob(\"*_sync\")\n",
    "    for folder in folders:\n",
    "        img02 = folder /'image_02'/'data'\n",
    "        img03 = folder /'image_03'/'data'\n",
    "        \n",
    "        for root in (img02, img03):\n",
    "            imgs = sorted([str(img) for img in root.iterdir()])\n",
    "            imgs0, imgs1, imgs2 = gene_tri(imgs)\n",
    "            timgs0 += imgs0\n",
    "            timgs1 += imgs1\n",
    "            timgs2 += imgs2\n",
    "        "
   ]
  },
  {
   "cell_type": "code",
   "execution_count": 22,
   "metadata": {},
   "outputs": [
    {
     "data": {
      "text/html": [
       "<div>\n",
       "<style scoped>\n",
       "    .dataframe tbody tr th:only-of-type {\n",
       "        vertical-align: middle;\n",
       "    }\n",
       "\n",
       "    .dataframe tbody tr th {\n",
       "        vertical-align: top;\n",
       "    }\n",
       "\n",
       "    .dataframe thead th {\n",
       "        text-align: right;\n",
       "    }\n",
       "</style>\n",
       "<table border=\"1\" class=\"dataframe\">\n",
       "  <thead>\n",
       "    <tr style=\"text-align: right;\">\n",
       "      <th></th>\n",
       "      <th>t0</th>\n",
       "      <th>t1</th>\n",
       "      <th>t2</th>\n",
       "    </tr>\n",
       "  </thead>\n",
       "  <tbody>\n",
       "    <tr>\n",
       "      <th>0</th>\n",
       "      <td>2011_10_03/2011_10_03_drive_0058_sync/image_02...</td>\n",
       "      <td>2011_10_03/2011_10_03_drive_0058_sync/image_02...</td>\n",
       "      <td>2011_10_03/2011_10_03_drive_0058_sync/image_02...</td>\n",
       "    </tr>\n",
       "    <tr>\n",
       "      <th>1</th>\n",
       "      <td>2011_10_03/2011_10_03_drive_0058_sync/image_02...</td>\n",
       "      <td>2011_10_03/2011_10_03_drive_0058_sync/image_02...</td>\n",
       "      <td>2011_10_03/2011_10_03_drive_0058_sync/image_02...</td>\n",
       "    </tr>\n",
       "    <tr>\n",
       "      <th>2</th>\n",
       "      <td>2011_10_03/2011_10_03_drive_0058_sync/image_02...</td>\n",
       "      <td>2011_10_03/2011_10_03_drive_0058_sync/image_02...</td>\n",
       "      <td>2011_10_03/2011_10_03_drive_0058_sync/image_02...</td>\n",
       "    </tr>\n",
       "    <tr>\n",
       "      <th>3</th>\n",
       "      <td>2011_10_03/2011_10_03_drive_0058_sync/image_02...</td>\n",
       "      <td>2011_10_03/2011_10_03_drive_0058_sync/image_02...</td>\n",
       "      <td>2011_10_03/2011_10_03_drive_0058_sync/image_02...</td>\n",
       "    </tr>\n",
       "    <tr>\n",
       "      <th>4</th>\n",
       "      <td>2011_10_03/2011_10_03_drive_0058_sync/image_02...</td>\n",
       "      <td>2011_10_03/2011_10_03_drive_0058_sync/image_02...</td>\n",
       "      <td>2011_10_03/2011_10_03_drive_0058_sync/image_02...</td>\n",
       "    </tr>\n",
       "  </tbody>\n",
       "</table>\n",
       "</div>"
      ],
      "text/plain": [
       "                                                  t0  \\\n",
       "0  2011_10_03/2011_10_03_drive_0058_sync/image_02...   \n",
       "1  2011_10_03/2011_10_03_drive_0058_sync/image_02...   \n",
       "2  2011_10_03/2011_10_03_drive_0058_sync/image_02...   \n",
       "3  2011_10_03/2011_10_03_drive_0058_sync/image_02...   \n",
       "4  2011_10_03/2011_10_03_drive_0058_sync/image_02...   \n",
       "\n",
       "                                                  t1  \\\n",
       "0  2011_10_03/2011_10_03_drive_0058_sync/image_02...   \n",
       "1  2011_10_03/2011_10_03_drive_0058_sync/image_02...   \n",
       "2  2011_10_03/2011_10_03_drive_0058_sync/image_02...   \n",
       "3  2011_10_03/2011_10_03_drive_0058_sync/image_02...   \n",
       "4  2011_10_03/2011_10_03_drive_0058_sync/image_02...   \n",
       "\n",
       "                                                  t2  \n",
       "0  2011_10_03/2011_10_03_drive_0058_sync/image_02...  \n",
       "1  2011_10_03/2011_10_03_drive_0058_sync/image_02...  \n",
       "2  2011_10_03/2011_10_03_drive_0058_sync/image_02...  \n",
       "3  2011_10_03/2011_10_03_drive_0058_sync/image_02...  \n",
       "4  2011_10_03/2011_10_03_drive_0058_sync/image_02...  "
      ]
     },
     "execution_count": 22,
     "metadata": {},
     "output_type": "execute_result"
    }
   ],
   "source": [
    "train = pd.DataFrame(dict(t0=timgs0, t1=timgs1, t2=timgs2)); train.head()"
   ]
  },
  {
   "cell_type": "code",
   "execution_count": 23,
   "metadata": {},
   "outputs": [],
   "source": [
    "val = train.iloc[int(len(train)*0.9):]\n",
    "train = train.iloc[:int(len(train)*0.9)]"
   ]
  },
  {
   "cell_type": "code",
   "execution_count": 24,
   "metadata": {},
   "outputs": [],
   "source": [
    "val.to_csv('validation.csv'); train.to_csv('training.csv');"
   ]
  },
  {
   "cell_type": "code",
   "execution_count": null,
   "metadata": {},
   "outputs": [],
   "source": []
  }
 ],
 "metadata": {
  "kernelspec": {
   "display_name": "Python 3",
   "language": "python",
   "name": "python3"
  },
  "language_info": {
   "codemirror_mode": {
    "name": "ipython",
    "version": 3
   },
   "file_extension": ".py",
   "mimetype": "text/x-python",
   "name": "python",
   "nbconvert_exporter": "python",
   "pygments_lexer": "ipython3",
   "version": "3.6.5"
  }
 },
 "nbformat": 4,
 "nbformat_minor": 2
}
