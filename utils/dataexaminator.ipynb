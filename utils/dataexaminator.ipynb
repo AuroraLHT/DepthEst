{
 "cells": [
  {
   "cell_type": "code",
   "execution_count": null,
   "metadata": {},
   "outputs": [],
   "source": [
    "import os\n",
    "import sys\n",
    "from pathlib import Path"
   ]
  },
  {
   "cell_type": "code",
   "execution_count": null,
   "metadata": {},
   "outputs": [],
   "source": [
    "import pandas as pd\n",
    "import numpy as np\n",
    "import seaborn as sns\n",
    "import matplotlib.pyplot as plt"
   ]
  },
  {
   "cell_type": "markdown",
   "metadata": {},
   "source": [
    "# Unzip the file (old) - Don't run if already run extract.sh"
   ]
  },
  {
   "cell_type": "code",
   "execution_count": null,
   "metadata": {},
   "outputs": [],
   "source": [
    "zipfiles = !ls | grep \".zip\""
   ]
  },
  {
   "cell_type": "code",
   "execution_count": null,
   "metadata": {},
   "outputs": [],
   "source": [
    "# importing required modules\n",
    "from zipfile import ZipFile\n",
    "\n",
    "def pyunzip(file_name):\n",
    "    # opening the zip file in READ mode\n",
    "    with ZipFile(file_name, 'r') as zip:\n",
    "        # printing all the contents of the zip file\n",
    "        zip.printdir()\n",
    "\n",
    "        # extracting all the files\n",
    "        print('Extracting all the files now...')\n",
    "        zip.extractall()\n",
    "        print('Done!')"
   ]
  },
  {
   "cell_type": "code",
   "execution_count": null,
   "metadata": {},
   "outputs": [],
   "source": [
    "dontuse = ['velodyne_points', 'image_00', 'image_01']\n",
    "for zf in zipfiles:\n",
    "    !unzip {zf}\n",
    "    where = \"{}/{}\".format(zf[:10], zf[:-4])\n",
    "    for du in dontuse:\n",
    "        !rm -r {where+'/'+du}"
   ]
  },
  {
   "cell_type": "code",
   "execution_count": null,
   "metadata": {},
   "outputs": [],
   "source": [
    "zipfiles[0][:-4]"
   ]
  },
  {
   "cell_type": "markdown",
   "metadata": {},
   "source": [
    "# Examinating one of the extracted zip"
   ]
  },
  {
   "cell_type": "code",
   "execution_count": null,
   "metadata": {},
   "outputs": [],
   "source": [
    "ls"
   ]
  },
  {
   "cell_type": "code",
   "execution_count": null,
   "metadata": {},
   "outputs": [],
   "source": [
    "roots = Path('.').iterdir()\n",
    "\n",
    "roots=list(roots)\n",
    "\n",
    "roots = [root for root in roots if root.is_dir() and \"2011_\" in root.name]\n",
    "\n",
    "roots"
   ]
  },
  {
   "cell_type": "code",
   "execution_count": null,
   "metadata": {},
   "outputs": [],
   "source": [
    "root = np.random.choice(roots)\n",
    "folder = np.random.choice([d for d in root.iterdir() if d.is_dir()]); folder"
   ]
  },
  {
   "cell_type": "code",
   "execution_count": null,
   "metadata": {},
   "outputs": [],
   "source": [
    "img02 = folder /'image_02'\n",
    "img03 = folder /'image_03'"
   ]
  },
  {
   "cell_type": "code",
   "execution_count": null,
   "metadata": {},
   "outputs": [],
   "source": [
    "os.listdir(str(img02))"
   ]
  },
  {
   "cell_type": "code",
   "execution_count": null,
   "metadata": {},
   "outputs": [],
   "source": [
    "img02d = img02/'data'\n",
    "img03d = img03/'data'"
   ]
  },
  {
   "cell_type": "code",
   "execution_count": null,
   "metadata": {},
   "outputs": [],
   "source": [
    "img02ds = sorted(os.listdir(str(img02d)))\n",
    "img03ds = sorted(os.listdir(str(img03d)))"
   ]
  },
  {
   "cell_type": "code",
   "execution_count": null,
   "metadata": {},
   "outputs": [],
   "source": [
    "tuple(zip( img02ds[:5], img03ds[:5]))"
   ]
  },
  {
   "cell_type": "code",
   "execution_count": null,
   "metadata": {},
   "outputs": [],
   "source": [
    "assert len( set(img02ds) - set(img03ds) ) == 0, set(img02ds) - set(img03ds)"
   ]
  },
  {
   "cell_type": "code",
   "execution_count": null,
   "metadata": {},
   "outputs": [],
   "source": [
    "with open(str(img02/'timestamps.txt')) as f:\n",
    "    print(f.read()[:200])"
   ]
  },
  {
   "cell_type": "code",
   "execution_count": null,
   "metadata": {},
   "outputs": [],
   "source": [
    "with open(str(img03/'timestamps.txt')) as f:\n",
    "    print(f.read()[:200])"
   ]
  },
  {
   "cell_type": "code",
   "execution_count": null,
   "metadata": {},
   "outputs": [],
   "source": [
    "list(root.iterdir())"
   ]
  },
  {
   "cell_type": "code",
   "execution_count": null,
   "metadata": {},
   "outputs": [],
   "source": [
    "cam = root/'calib_cam_to_cam.txt'"
   ]
  },
  {
   "cell_type": "code",
   "execution_count": null,
   "metadata": {},
   "outputs": [],
   "source": [
    "camret = {}\n",
    "with cam.open('r') as f:\n",
    "    for l in f:\n",
    "        kv = l.rstrip().split(':')\n",
    "        k, v = kv[0], kv[1]\n",
    "        v= v.split(' ')[1:]\n",
    "        camret[k] = v"
   ]
  },
  {
   "cell_type": "code",
   "execution_count": null,
   "metadata": {},
   "outputs": [],
   "source": [
    "camret.keys()"
   ]
  },
  {
   "cell_type": "code",
   "execution_count": null,
   "metadata": {},
   "outputs": [],
   "source": [
    "cam3para = np.array(tuple(float(e) for e in camret['P_rect_03'])).reshape(3,4)\n",
    "cam2para = np.array(tuple(float(e) for e in camret['P_rect_02'])).reshape(3,4)"
   ]
  },
  {
   "cell_type": "code",
   "execution_count": null,
   "metadata": {},
   "outputs": [],
   "source": [
    "cam2para"
   ]
  },
  {
   "cell_type": "code",
   "execution_count": null,
   "metadata": {},
   "outputs": [],
   "source": [
    "cam3para"
   ]
  },
  {
   "cell_type": "markdown",
   "metadata": {},
   "source": [
    "# Visualization"
   ]
  },
  {
   "cell_type": "code",
   "execution_count": null,
   "metadata": {},
   "outputs": [],
   "source": [
    "import matplotlib.animation as animation\n",
    "from IPython.display import HTML"
   ]
  },
  {
   "cell_type": "code",
   "execution_count": null,
   "metadata": {},
   "outputs": [],
   "source": [
    "fig = plt.figure()\n",
    "\n",
    "\n",
    "def f(x, y):\n",
    "    return np.sin(x) + np.cos(y)\n",
    "\n",
    "x = np.linspace(0, 2 * np.pi, 120)\n",
    "y = np.linspace(0, 2 * np.pi, 100).reshape(-1, 1)\n",
    "\n",
    "im = plt.imshow(f(x, y), animated=True)\n",
    "\n",
    "\n",
    "def updatefig(*args):\n",
    "    global x, y\n",
    "    x += np.pi / 15.\n",
    "    y += np.pi / 20.\n",
    "    im.set_array(f(x, y))\n",
    "    return im,\n",
    "\n",
    "ani = animation.FuncAnimation(fig, updatefig, interval=50, blit=True)\n",
    "HTML(ani.to_html5_video())"
   ]
  },
  {
   "cell_type": "code",
   "execution_count": null,
   "metadata": {},
   "outputs": [],
   "source": [
    "fig, ax = plt.subplots()\n",
    "\n",
    "shape = plt.imread(str(img02d/img02ds[0])).shape\n",
    "print('shape of a frame: ', shape)\n",
    "im = ax.imshow(np.zeros(shape), animated=True)\n",
    "ax.set_axis_off()\n",
    "plt.tight_layout()\n",
    "\n",
    "def frame(paths, root):\n",
    "    for path in paths:\n",
    "        yield plt.imread(str(root/path))\n",
    "\n",
    "def animate(img):\n",
    "    im.set_array(img)  # update the data\n",
    "    return im\n",
    "\n",
    "# Init only required for blitting to give a clean slate.\n",
    "def init():\n",
    "    im.set_array(np.zeros(shape))\n",
    "    return im\n",
    "\n",
    "ani = animation.FuncAnimation(fig, animate, frames=list(frame(img02ds, img02d)), interval=25)\n",
    "HTML(ani.to_html5_video())"
   ]
  },
  {
   "cell_type": "code",
   "execution_count": null,
   "metadata": {},
   "outputs": [],
   "source": [
    "shape = plt.imread(str(img02d/img)).shape; shape"
   ]
  },
  {
   "cell_type": "code",
   "execution_count": null,
   "metadata": {},
   "outputs": [],
   "source": [
    "shape = np.array(shape[:2])\n",
    "shape/ shape[0]"
   ]
  },
  {
   "cell_type": "code",
   "execution_count": null,
   "metadata": {},
   "outputs": [],
   "source": [
    "def gene_tri(imgs):\n",
    "    return imgs[0:-2], imgs[1:-1], imgs[2:] "
   ]
  },
  {
   "cell_type": "code",
   "execution_count": null,
   "metadata": {},
   "outputs": [],
   "source": [
    "tris = gene_tri(img02ds)"
   ]
  },
  {
   "cell_type": "code",
   "execution_count": null,
   "metadata": {},
   "outputs": [],
   "source": [
    "tris = tuple( zip(*tris) )"
   ]
  },
  {
   "cell_type": "code",
   "execution_count": null,
   "metadata": {},
   "outputs": [],
   "source": [
    "tris[0]"
   ]
  },
  {
   "cell_type": "code",
   "execution_count": null,
   "metadata": {},
   "outputs": [],
   "source": [
    "def plot_tri(tri, path):\n",
    "    f, axs=plt.subplots(3,1, figsize=(20, 6))\n",
    "    for i, img in enumerate(tri):\n",
    "        axs[i].imshow(plt.imread(str(path/img)))\n",
    "        axs[i].set_axis_off()\n",
    "    plt.show()"
   ]
  },
  {
   "cell_type": "code",
   "execution_count": null,
   "metadata": {},
   "outputs": [],
   "source": [
    "print(tris[1])\n",
    "plot_tri(tris[1], img02d)"
   ]
  },
  {
   "cell_type": "code",
   "execution_count": null,
   "metadata": {},
   "outputs": [],
   "source": [
    "def stero_pair(pair, img):\n",
    "    f, axs=plt.subplots(1,2, figsize=(24, 4))\n",
    "    for i, loc in enumerate(pair):\n",
    "        axs[i].imshow(plt.imread(str(loc/img)))\n",
    "        axs[i].set_axis_off()\n",
    "    plt.show()"
   ]
  },
  {
   "cell_type": "code",
   "execution_count": null,
   "metadata": {},
   "outputs": [],
   "source": [
    "stero_pair((img02d, img03d), img02ds[0] )"
   ]
  },
  {
   "cell_type": "markdown",
   "metadata": {},
   "source": [
    "# Convert the directory to csv"
   ]
  },
  {
   "cell_type": "code",
   "execution_count": null,
   "metadata": {},
   "outputs": [],
   "source": [
    "from collections import namedtuple"
   ]
  },
  {
   "cell_type": "code",
   "execution_count": null,
   "metadata": {},
   "outputs": [],
   "source": [
    "CAMPARA = namedtuple('campara',['fx','fy','cx','cy'])\n",
    "def get_campara(date):\n",
    "    cam = date/'calib_cam_to_cam.txt'\n",
    "    camret = {}\n",
    "    with cam.open('r') as f:\n",
    "        for l in f:\n",
    "            kv = l.rstrip().split(':')\n",
    "            k, v = kv[0], kv[1]\n",
    "            v= v.split(' ')[1:]\n",
    "            camret[k] = v\n",
    "    cam2para = np.array(tuple(float(e) for e in camret['P_rect_02'])).reshape(3,4)\n",
    "    return CAMPARA(fx = cam2para[0,0], fy = cam2para[1,1], cx = cam2para[0,2], cy = cam2para[1,2])"
   ]
  },
  {
   "cell_type": "code",
   "execution_count": null,
   "metadata": {},
   "outputs": [],
   "source": [
    "def gene_tri(imgs):\n",
    "    return imgs[0:-2], imgs[1:-1], imgs[2:] "
   ]
  },
  {
   "cell_type": "code",
   "execution_count": null,
   "metadata": {},
   "outputs": [],
   "source": [
    "get_campara(root)"
   ]
  },
  {
   "cell_type": "code",
   "execution_count": null,
   "metadata": {},
   "outputs": [],
   "source": [
    "roots = Path('.').iterdir()\n",
    "roots=list(roots)\n",
    "roots = [root for root in roots if root.is_dir() and '2011_' in root.name]\n",
    "roots"
   ]
  },
  {
   "cell_type": "code",
   "execution_count": null,
   "metadata": {},
   "outputs": [],
   "source": [
    "pwd()"
   ]
  },
  {
   "cell_type": "code",
   "execution_count": null,
   "metadata": {},
   "outputs": [],
   "source": [
    "timgs0, timgs1, timgs2, paras = [], [], [], []\n",
    "for root in roots:\n",
    "    para = get_campara(root)\n",
    "    folders = root.glob(\"*_sync\")\n",
    "    for folder in folders:\n",
    "        img02 = folder /'image_02'/'data'\n",
    "        img03 = folder /'image_03'/'data'\n",
    "        \n",
    "        for which in (img02, img03):\n",
    "            imgs = sorted([str(img) for img in which.iterdir()])\n",
    "            imgs0, imgs1, imgs2 = gene_tri(imgs)\n",
    "            timgs0 += imgs0\n",
    "            timgs1 += imgs1\n",
    "            timgs2 += imgs2\n",
    "            paras += [para]*len(imgs0)\n",
    "paras = tuple(zip(*paras))"
   ]
  },
  {
   "cell_type": "code",
   "execution_count": null,
   "metadata": {},
   "outputs": [],
   "source": [
    "train = pd.DataFrame(dict(t0=timgs0, t1=timgs1,t2=timgs2,\n",
    "                          fx=paras[0],fy=paras[1],\n",
    "                          cx=paras[2],cy=paras[3])\n",
    "                    )\n",
    "train.head()"
   ]
  },
  {
   "cell_type": "code",
   "execution_count": null,
   "metadata": {},
   "outputs": [],
   "source": [
    "val = train.iloc[int(len(train)*0.9):]\n",
    "train = train.iloc[:int(len(train)*0.9)]"
   ]
  },
  {
   "cell_type": "code",
   "execution_count": null,
   "metadata": {},
   "outputs": [],
   "source": [
    "val.to_csv('validation.csv'); train.to_csv('training.csv');"
   ]
  },
  {
   "cell_type": "code",
   "execution_count": null,
   "metadata": {},
   "outputs": [],
   "source": []
  }
 ],
 "metadata": {
  "kernelspec": {
   "display_name": "Python 3.6",
   "language": "python",
   "name": "python3"
  },
  "language_info": {
   "codemirror_mode": {
    "name": "ipython",
    "version": 3
   },
   "file_extension": ".py",
   "mimetype": "text/x-python",
   "name": "python",
   "nbconvert_exporter": "python",
   "pygments_lexer": "ipython3",
   "version": "3.5.2"
  }
 },
 "nbformat": 4,
 "nbformat_minor": 2
}
