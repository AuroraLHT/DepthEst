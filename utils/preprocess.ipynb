{
 "cells": [
  {
   "cell_type": "code",
   "execution_count": 1,
   "metadata": {},
   "outputs": [],
   "source": [
    "from pathlib import Path"
   ]
  },
  {
   "cell_type": "code",
   "execution_count": 2,
   "metadata": {},
   "outputs": [],
   "source": [
    "import cv2"
   ]
  },
  {
   "cell_type": "code",
   "execution_count": null,
   "metadata": {},
   "outputs": [],
   "source": [
    "from skimage.transform import resize"
   ]
  },
  {
   "cell_type": "code",
   "execution_count": null,
   "metadata": {},
   "outputs": [],
   "source": [
    "from skimage.io import imread, imsave"
   ]
  },
  {
   "cell_type": "code",
   "execution_count": 3,
   "metadata": {},
   "outputs": [],
   "source": [
    "FORCE = False"
   ]
  },
  {
   "cell_type": "code",
   "execution_count": 4,
   "metadata": {},
   "outputs": [],
   "source": [
    "USE_CV = True\n",
    "\n",
    "def load_img(path):\n",
    "    if USE_CV:\n",
    "        return cv2.imread(path)\n",
    "    else:\n",
    "        return imread(path)\n",
    "\n",
    "def save_img(path, img):\n",
    "    if USE_CV:\n",
    "        return cv2.imwrite(path, img)\n",
    "    else:\n",
    "        return imsave(path, img)\n",
    "    \n",
    "def resize_img(img, size):\n",
    "    if USE_CV:\n",
    "        return cv2.resize(img, size)\n",
    "    else:\n",
    "        return resize(\n",
    "            img,\n",
    "            size,\n",
    "            mode=\"reflect\"\n",
    "            #anti_aliasing=True\n",
    "        )"
   ]
  },
  {
   "cell_type": "code",
   "execution_count": 5,
   "metadata": {},
   "outputs": [],
   "source": [
    "if USE_CV:\n",
    "    size = (640, 192)\n",
    "else:\n",
    "    size = (192, 640)"
   ]
  },
  {
   "cell_type": "code",
   "execution_count": 7,
   "metadata": {},
   "outputs": [
    {
     "data": {
      "text/plain": [
       "[PosixPath('2011_09_29'),\n",
       " PosixPath('2011_09_30'),\n",
       " PosixPath('2011_09_26'),\n",
       " PosixPath('2011_09_28'),\n",
       " PosixPath('2011_10_03')]"
      ]
     },
     "execution_count": 7,
     "metadata": {},
     "output_type": "execute_result"
    }
   ],
   "source": [
    "roots = Path('.').iterdir()\n",
    "roots=list(roots)\n",
    "roots = [root for root in roots if root.is_dir() and '2011_' in root.name]\n",
    "roots"
   ]
  },
  {
   "cell_type": "markdown",
   "metadata": {},
   "source": [
    "size = (188, 620)\n",
    "#size = (620, 188)\n",
    "for root in roots:\n",
    "    folders = root.glob(\"*_sync\")\n",
    "    for folder in folders:\n",
    "        img02r = folder /'image_02_{}_{}'.format(*size)/'data'\n",
    "        img03r = folder /'image_03_{}_{}'.format(*size)/'data'\n",
    "\n",
    "        for which in (img02r, img03r):\n",
    "            !rm -r {str(which)}"
   ]
  },
  {
   "cell_type": "code",
   "execution_count": 8,
   "metadata": {},
   "outputs": [],
   "source": [
    "from tqdm import tqdm_notebook as tqdm"
   ]
  },
  {
   "cell_type": "code",
   "execution_count": 9,
   "metadata": {},
   "outputs": [
    {
     "data": {
      "application/vnd.jupyter.widget-view+json": {
       "model_id": "45a97939a3a74a3eac9411c23a20a7db",
       "version_major": 2,
       "version_minor": 0
      },
      "text/plain": [
       "HBox(children=(IntProgress(value=0, max=1), HTML(value='')))"
      ]
     },
     "metadata": {},
     "output_type": "display_data"
    },
    {
     "name": "stdout",
     "output_type": "stream",
     "text": [
      "\n"
     ]
    }
   ],
   "source": [
    "pbar=tqdm(total=1)\n",
    "pbar.update(1)\n",
    "pbar.close()"
   ]
  },
  {
   "cell_type": "code",
   "execution_count": null,
   "metadata": {},
   "outputs": [],
   "source": [
    "timgs0, timgs1, timgs2, paras = [], [], [], []\n",
    "\n",
    "\n",
    "readimgs = []\n",
    "saveimgs = []\n",
    "\n",
    "for root in roots:\n",
    "    folders = root.glob(\"*_sync\")\n",
    "    for folder in folders:\n",
    "        img02 = folder /'image_02'/'data'\n",
    "        img03 = folder /'image_03'/'data'\n",
    "        img02r = folder /'image_02_{}_{}'.format(*size)/'data'\n",
    "        img03r = folder /'image_03_{}_{}'.format(*size)/'data'\n",
    "        \n",
    "        img02r.mkdir(parents=True, exist_ok=True)\n",
    "        img03r.mkdir(parents=True, exist_ok=True)\n",
    "        for which, which_r in ((img02, img02r), (img03, img03r)):\n",
    "            imgs = sorted([img for img in which.iterdir()])\n",
    "            readimgs += imgs\n",
    "            saveimgs += [which_r/img.name for img in imgs]\n",
    "\n",
    "total = len(readimgs); total                "
   ]
  },
  {
   "cell_type": "code",
   "execution_count": null,
   "metadata": {},
   "outputs": [],
   "source": [
    "from multiprocessing import Process, Lock\n",
    "\n",
    "def f(readimgs, saveimgs):\n",
    "    pbar = tqdm(total=len(readimgs))\n",
    "    for img, saveimg in zip(readimgs, saveimgs):\n",
    "        if not saveimg.exists() or FORCE:\n",
    "            resized = resize_img( load_img(str(img)), size)\n",
    "            save_img(str(saveimg), resized)        \n",
    "        pbar.update(1)\n",
    "    pbar.close"
   ]
  },
  {
   "cell_type": "code",
   "execution_count": null,
   "metadata": {},
   "outputs": [],
   "source": [
    "ncores = 6\n",
    "space = int( total / ncores ) + 1 \n",
    "ps = []\n",
    "space"
   ]
  },
  {
   "cell_type": "code",
   "execution_count": null,
   "metadata": {},
   "outputs": [],
   "source": [
    "\n",
    "for num in range(ncores):\n",
    "    p = Process(target=f,\n",
    "                args=(readimgs[space*num: space*(num+1)],\n",
    "                      saveimgs[space*num: space*(num+1)],\n",
    "                      )\n",
    "               )\n",
    "    ps.append(p)\n",
    "    \n",
    "for p in ps: p.start()"
   ]
  },
  {
   "cell_type": "code",
   "execution_count": null,
   "metadata": {},
   "outputs": [],
   "source": [
    "for p in ps: p.close()\n"
   ]
  },
  {
   "cell_type": "code",
   "execution_count": null,
   "metadata": {},
   "outputs": [],
   "source": [
    "pbar = tqdm(total=total)\n",
    "for root in roots:\n",
    "    folders = root.glob(\"*_sync\")\n",
    "    for folder in folders:\n",
    "        img02 = folder /'image_02'/'data'\n",
    "        img03 = folder /'image_03'/'data'\n",
    "        img02r = folder /'image_02_{}_{}'.format(*size)/'data'\n",
    "        img03r = folder /'image_03_{}_{}'.format(*size)/'data'\n",
    "        \n",
    "        img02r.mkdir(parents=True, exist_ok=True)\n",
    "        img03r.mkdir(parents=True, exist_ok=True)\n",
    "        for which, which_r in ((img02, img02r), (img03, img03r)):\n",
    "            imgs = sorted([img for img in which.iterdir()])\n",
    "            \n",
    "            for img in imgs:\n",
    "                img_r = which_r/img.name\n",
    "                if not img_r.exists() or FORCE:\n",
    "                    resized = resize_img( load_img(str(img)), size)\n",
    "                    save_img(str(img_r), resized)\n",
    "                pbar.update(1)\n",
    "pbar.close()"
   ]
  },
  {
   "cell_type": "code",
   "execution_count": null,
   "metadata": {},
   "outputs": [],
   "source": [
    "import pandas as pd\n",
    "import numpy as np"
   ]
  },
  {
   "cell_type": "code",
   "execution_count": null,
   "metadata": {},
   "outputs": [],
   "source": [
    "from collections import namedtuple"
   ]
  },
  {
   "cell_type": "code",
   "execution_count": null,
   "metadata": {},
   "outputs": [],
   "source": [
    "CAMPARA = namedtuple('campara',['fx','fy','cx','cy'])\n",
    "def get_campara(date):\n",
    "    cam = date/'calib_cam_to_cam.txt'\n",
    "    camret = {}\n",
    "    with cam.open('r') as f:\n",
    "        for l in f:\n",
    "            kv = l.rstrip().split(':')\n",
    "            k, v = kv[0], kv[1]\n",
    "            v= v.split(' ')[1:]\n",
    "            camret[k] = v\n",
    "    cam2para = np.array(tuple(float(e) for e in camret['P_rect_02'])).reshape(3,4)\n",
    "    return CAMPARA(fx = cam2para[0,0], fy = cam2para[1,1], cx = cam2para[0,2], cy = cam2para[1,2])"
   ]
  },
  {
   "cell_type": "code",
   "execution_count": null,
   "metadata": {},
   "outputs": [],
   "source": [
    "def gene_tri(imgs):\n",
    "    return imgs[0:-2], imgs[1:-1], imgs[2:]"
   ]
  },
  {
   "cell_type": "code",
   "execution_count": null,
   "metadata": {},
   "outputs": [],
   "source": [
    "timgs0, timgs1, timgs2, paras = [], [], [], []\n",
    "for root in roots:\n",
    "    para = get_campara(root)\n",
    "    folders = root.glob(\"*_sync\")\n",
    "    for folder in folders:\n",
    "        img02r = folder /'image_02_{}_{}'.format(*size)/'data'\n",
    "        img03r = folder /'image_03_{}_{}'.format(*size)/'data'\n",
    "        \n",
    "        for which in (img02r, img03r):\n",
    "            imgs = sorted([str(img) for img in which.iterdir()])\n",
    "            imgs0, imgs1, imgs2 = gene_tri(imgs)\n",
    "            timgs0 += imgs0\n",
    "            timgs1 += imgs1\n",
    "            timgs2 += imgs2\n",
    "            paras += [para]*len(imgs0)\n",
    "paras = tuple(zip(*paras))"
   ]
  },
  {
   "cell_type": "code",
   "execution_count": null,
   "metadata": {},
   "outputs": [],
   "source": [
    "train = pd.DataFrame(dict(t0=timgs0, t1=timgs1,t2=timgs2,\n",
    "                          fx=paras[0],fy=paras[1],\n",
    "                          cx=paras[2],cy=paras[3])\n",
    "                    )\n",
    "\n",
    "train[['fx','fy','cx','cy']]=train[['fx','fy','cx','cy']]/2"
   ]
  },
  {
   "cell_type": "code",
   "execution_count": null,
   "metadata": {},
   "outputs": [],
   "source": [
    "train.head()\n",
    "\n",
    "val = train.iloc[int(len(train)*0.9):]\n",
    "train = train.iloc[:int(len(train)*0.9)]\n",
    "\n",
    "if USE_CV:\n",
    "    val.to_csv('validation_{1}_{0}.csv'.format(*size), index=False)\n",
    "    train.to_csv('training_{1}_{0}.csv'.format(*size), index=False);\n",
    "else:\n",
    "    val.to_csv('validation_{}_{}.csv'.format(*size), index=False)\n",
    "    train.to_csv('training_{}_{}.csv'.format(*size), index=False);"
   ]
  },
  {
   "cell_type": "code",
   "execution_count": null,
   "metadata": {},
   "outputs": [],
   "source": [
    "train.head()"
   ]
  },
  {
   "cell_type": "code",
   "execution_count": null,
   "metadata": {},
   "outputs": [],
   "source": [
    "val.head()"
   ]
  },
  {
   "cell_type": "code",
   "execution_count": null,
   "metadata": {},
   "outputs": [],
   "source": []
  }
 ],
 "metadata": {
  "kernelspec": {
   "display_name": "Python 3",
   "language": "python",
   "name": "python3"
  },
  "language_info": {
   "codemirror_mode": {
    "name": "ipython",
    "version": 3
   },
   "file_extension": ".py",
   "mimetype": "text/x-python",
   "name": "python",
   "nbconvert_exporter": "python",
   "pygments_lexer": "ipython3",
   "version": "3.6.6"
  }
 },
 "nbformat": 4,
 "nbformat_minor": 2
}
