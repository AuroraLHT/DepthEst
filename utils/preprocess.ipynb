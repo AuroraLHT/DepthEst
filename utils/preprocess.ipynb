{
 "cells": [
  {
   "cell_type": "code",
   "execution_count": 1,
   "metadata": {},
   "outputs": [],
   "source": [
    "from pathlib import Path"
   ]
  },
  {
   "cell_type": "code",
   "execution_count": 2,
   "metadata": {},
   "outputs": [
    {
     "ename": "ImportError",
     "evalue": "/opt/ros/kinetic/lib/python2.7/dist-packages/cv2.so: undefined symbol: PyCObject_Type",
     "output_type": "error",
     "traceback": [
      "\u001b[0;31m---------------------------------------------------------------------------\u001b[0m",
      "\u001b[0;31mImportError\u001b[0m                               Traceback (most recent call last)",
      "\u001b[0;32m<ipython-input-2-c8ec22b3e787>\u001b[0m in \u001b[0;36m<module>\u001b[0;34m()\u001b[0m\n\u001b[0;32m----> 1\u001b[0;31m \u001b[0;32mimport\u001b[0m \u001b[0mcv2\u001b[0m\u001b[0;34m\u001b[0m\u001b[0m\n\u001b[0m",
      "\u001b[0;31mImportError\u001b[0m: /opt/ros/kinetic/lib/python2.7/dist-packages/cv2.so: undefined symbol: PyCObject_Type"
     ]
    }
   ],
   "source": [
    "import cv2"
   ]
  },
  {
   "cell_type": "code",
   "execution_count": 16,
   "metadata": {},
   "outputs": [],
   "source": [
    "from skimage.transform import resize"
   ]
  },
  {
   "cell_type": "code",
   "execution_count": 3,
   "metadata": {},
   "outputs": [],
   "source": [
    "from skimage.io import imread, imsave"
   ]
  },
  {
   "cell_type": "code",
   "execution_count": 28,
   "metadata": {},
   "outputs": [],
   "source": [
    "USE_CV = False\n",
    "\n",
    "def load_img(path):\n",
    "    if USE_CV:\n",
    "        return cv2.imread(path)\n",
    "    else:\n",
    "        return imread(path)\n",
    "\n",
    "def save_img(path, img):\n",
    "    if USE_CV:\n",
    "        return cv2.imwrite(path, img)\n",
    "    else:\n",
    "        return imsave(path, img)\n",
    "    \n",
    "def resize_img(img, size):\n",
    "    if USE_CV:\n",
    "        return cv2.resize(img, size)\n",
    "    else:\n",
    "        return resize(\n",
    "            img,\n",
    "            size,\n",
    "            mode=\"reflect\"\n",
    "            #anti_aliasing=True\n",
    "        )"
   ]
  },
  {
   "cell_type": "code",
   "execution_count": 5,
   "metadata": {},
   "outputs": [],
   "source": [
    "size = (188, 620)"
   ]
  },
  {
   "cell_type": "code",
   "execution_count": 6,
   "metadata": {},
   "outputs": [
    {
     "data": {
      "text/plain": [
       "[PosixPath('2011_09_26')]"
      ]
     },
     "execution_count": 6,
     "metadata": {},
     "output_type": "execute_result"
    }
   ],
   "source": [
    "roots = Path('.').iterdir()\n",
    "roots=list(roots)\n",
    "roots = [root for root in roots if root.is_dir() and '2011_' in root.name]\n",
    "roots"
   ]
  },
  {
   "cell_type": "code",
   "execution_count": 29,
   "metadata": {},
   "outputs": [
    {
     "name": "stderr",
     "output_type": "stream",
     "text": [
      "/home/aurora/.local/lib/python3.5/site-packages/skimage/transform/_warps.py:84: UserWarning: The default mode, 'constant', will be changed to 'reflect' in skimage 0.15.\n",
      "  warn(\"The default mode, 'constant', will be changed to 'reflect' in \"\n",
      "/home/aurora/.local/lib/python3.5/site-packages/skimage/util/dtype.py:122: UserWarning: Possible precision loss when converting from float64 to uint8\n",
      "  .format(dtypeobj_in, dtypeobj_out))\n"
     ]
    }
   ],
   "source": [
    "timgs0, timgs1, timgs2, paras = [], [], [], []\n",
    "for root in roots:\n",
    "    #para = get_campara(root)\n",
    "    folders = root.glob(\"*_sync\")\n",
    "    for folder in folders:\n",
    "        img02 = folder /'image_02'/'data'\n",
    "        img03 = folder /'image_03'/'data'\n",
    "        img02r = folder /'image_02_{}_{}'.format(*size)/'data'\n",
    "        img03r = folder /'image_03_{}_{}'.format(*size)/'data'\n",
    "        \n",
    "        img02r.mkdir(parents=True, exist_ok=True)\n",
    "        img03r.mkdir(parents=True, exist_ok=True)\n",
    "        for which, which_r in ((img02, img02r), (img03, img03r)):\n",
    "            imgs = sorted([img for img in which.iterdir()])\n",
    "            \n",
    "            for img in imgs:\n",
    "                resized = resize( load_img(str(img)), size)\n",
    "                save_img(which_r/img.name, resized)"
   ]
  },
  {
   "cell_type": "code",
   "execution_count": 39,
   "metadata": {},
   "outputs": [],
   "source": [
    "import pandas as pd\n",
    "import numpy as np"
   ]
  },
  {
   "cell_type": "code",
   "execution_count": 40,
   "metadata": {},
   "outputs": [],
   "source": [
    "from collections import namedtuple"
   ]
  },
  {
   "cell_type": "code",
   "execution_count": 41,
   "metadata": {},
   "outputs": [],
   "source": [
    "CAMPARA = namedtuple('campara',['fx','fy','cx','cy'])\n",
    "def get_campara(date):\n",
    "    cam = date/'calib_cam_to_cam.txt'\n",
    "    camret = {}\n",
    "    with cam.open('r') as f:\n",
    "        for l in f:\n",
    "            kv = l.rstrip().split(':')\n",
    "            k, v = kv[0], kv[1]\n",
    "            v= v.split(' ')[1:]\n",
    "            camret[k] = v\n",
    "    cam2para = np.array(tuple(float(e) for e in camret['P_rect_02'])).reshape(3,4)\n",
    "    return CAMPARA(fx = cam2para[0,0], fy = cam2para[1,1], cx = cam2para[0,2], cy = cam2para[1,2])"
   ]
  },
  {
   "cell_type": "code",
   "execution_count": 43,
   "metadata": {},
   "outputs": [],
   "source": [
    "def gene_tri(imgs):\n",
    "    return imgs[0:-2], imgs[1:-1], imgs[2:]"
   ]
  },
  {
   "cell_type": "code",
   "execution_count": 44,
   "metadata": {},
   "outputs": [],
   "source": [
    "timgs0, timgs1, timgs2, paras = [], [], [], []\n",
    "for root in roots:\n",
    "    para = get_campara(root)\n",
    "    folders = root.glob(\"*_sync\")\n",
    "    for folder in folders:\n",
    "        img02r = folder /'image_02_{}_{}'.format(*size)/'data'\n",
    "        img03r = folder /'image_03_{}_{}'.format(*size)/'data'\n",
    "        \n",
    "        for which in (img02r, img03r):\n",
    "            imgs = sorted([str(img) for img in which.iterdir()])\n",
    "            imgs0, imgs1, imgs2 = gene_tri(imgs)\n",
    "            timgs0 += imgs0\n",
    "            timgs1 += imgs1\n",
    "            timgs2 += imgs2\n",
    "            paras += [para]*len(imgs0)\n",
    "paras = tuple(zip(*paras))"
   ]
  },
  {
   "cell_type": "code",
   "execution_count": 45,
   "metadata": {},
   "outputs": [],
   "source": [
    "train = pd.DataFrame(dict(t0=timgs0, t1=timgs1,t2=timgs2,\n",
    "                          fx=paras[0],fy=paras[1],\n",
    "                          cx=paras[2],cy=paras[3])\n",
    "                    )\n",
    "train.head()\n",
    "\n",
    "val = train.iloc[int(len(train)*0.9):]\n",
    "train = train.iloc[:int(len(train)*0.9)]\n",
    "\n",
    "val.to_csv('validation_{}_{}.csv'.format(*size))\n",
    "train.to_csv('training{}_{}.csv'.format(*size));"
   ]
  },
  {
   "cell_type": "code",
   "execution_count": null,
   "metadata": {},
   "outputs": [],
   "source": []
  }
 ],
 "metadata": {
  "kernelspec": {
   "display_name": "Python 3.6",
   "language": "python",
   "name": "python3"
  },
  "language_info": {
   "codemirror_mode": {
    "name": "ipython",
    "version": 3
   },
   "file_extension": ".py",
   "mimetype": "text/x-python",
   "name": "python",
   "nbconvert_exporter": "python",
   "pygments_lexer": "ipython3",
   "version": "3.5.2"
  }
 },
 "nbformat": 4,
 "nbformat_minor": 2
}
