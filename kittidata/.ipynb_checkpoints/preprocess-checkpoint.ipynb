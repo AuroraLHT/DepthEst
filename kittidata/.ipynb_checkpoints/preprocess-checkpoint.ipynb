{
 "cells": [
  {
   "cell_type": "code",
   "execution_count": 1,
   "metadata": {},
   "outputs": [
    {
     "name": "stderr",
     "output_type": "stream",
     "text": [
      "/home/paperspace/anaconda3/envs/fastai/lib/python3.6/importlib/_bootstrap.py:219: RuntimeWarning: numpy.dtype size changed, may indicate binary incompatibility. Expected 96, got 88\n",
      "  return f(*args, **kwds)\n",
      "/home/paperspace/anaconda3/envs/fastai/lib/python3.6/importlib/_bootstrap.py:219: RuntimeWarning: numpy.dtype size changed, may indicate binary incompatibility. Expected 96, got 88\n",
      "  return f(*args, **kwds)\n"
     ]
    }
   ],
   "source": [
    "from collections import namedtuple\n",
    "import pandas as pd\n",
    "import numpy as np"
   ]
  },
  {
   "cell_type": "code",
   "execution_count": 2,
   "metadata": {},
   "outputs": [],
   "source": [
    "from pathlib import Path"
   ]
  },
  {
   "cell_type": "code",
   "execution_count": 3,
   "metadata": {},
   "outputs": [],
   "source": [
    "import cv2"
   ]
  },
  {
   "cell_type": "code",
   "execution_count": 4,
   "metadata": {},
   "outputs": [
    {
     "ename": "ModuleNotFoundError",
     "evalue": "No module named 'skimage'",
     "output_type": "error",
     "traceback": [
      "\u001b[0;31m---------------------------------------------------------------------------\u001b[0m",
      "\u001b[0;31mModuleNotFoundError\u001b[0m                       Traceback (most recent call last)",
      "\u001b[0;32m<ipython-input-4-06d9e9dfe677>\u001b[0m in \u001b[0;36m<module>\u001b[0;34m()\u001b[0m\n\u001b[0;32m----> 1\u001b[0;31m \u001b[0;32mfrom\u001b[0m \u001b[0mskimage\u001b[0m\u001b[0;34m.\u001b[0m\u001b[0mtransform\u001b[0m \u001b[0;32mimport\u001b[0m \u001b[0mresize\u001b[0m\u001b[0;34m\u001b[0m\u001b[0m\n\u001b[0m",
      "\u001b[0;31mModuleNotFoundError\u001b[0m: No module named 'skimage'"
     ]
    }
   ],
   "source": [
    "from skimage.transform import resize"
   ]
  },
  {
   "cell_type": "code",
   "execution_count": 4,
   "metadata": {},
   "outputs": [
    {
     "ename": "ModuleNotFoundError",
     "evalue": "No module named 'skimage'",
     "output_type": "error",
     "traceback": [
      "\u001b[0;31m---------------------------------------------------------------------------\u001b[0m",
      "\u001b[0;31mModuleNotFoundError\u001b[0m                       Traceback (most recent call last)",
      "\u001b[0;32m<ipython-input-4-837979b493c2>\u001b[0m in \u001b[0;36m<module>\u001b[0;34m()\u001b[0m\n\u001b[0;32m----> 1\u001b[0;31m \u001b[0;32mfrom\u001b[0m \u001b[0mskimage\u001b[0m\u001b[0;34m.\u001b[0m\u001b[0mio\u001b[0m \u001b[0;32mimport\u001b[0m \u001b[0mimread\u001b[0m\u001b[0;34m,\u001b[0m \u001b[0mimsave\u001b[0m\u001b[0;34m\u001b[0m\u001b[0m\n\u001b[0m",
      "\u001b[0;31mModuleNotFoundError\u001b[0m: No module named 'skimage'"
     ]
    }
   ],
   "source": [
    "from skimage.io import imread, imsave"
   ]
  },
  {
   "cell_type": "code",
   "execution_count": null,
   "metadata": {},
   "outputs": [],
   "source": [
    "with open('.eigen_split.txt', 'r') as f:\n",
    "    eigen_split = f.readlines()"
   ]
  },
  {
   "cell_type": "code",
   "execution_count": 5,
   "metadata": {},
   "outputs": [],
   "source": [
    "FORCE = False"
   ]
  },
  {
   "cell_type": "code",
   "execution_count": 6,
   "metadata": {},
   "outputs": [],
   "source": [
    "USE_CV = True\n",
    "\n",
    "def load_img(path):\n",
    "    if USE_CV:\n",
    "        return cv2.imread(path)\n",
    "    else:\n",
    "        return imread(path)\n",
    "\n",
    "def save_img(path, img):\n",
    "    if USE_CV:\n",
    "        return cv2.imwrite(path, img)\n",
    "    else:\n",
    "        return imsave(path, img)\n",
    "    \n",
    "def resize_img(img, size):\n",
    "    if USE_CV:\n",
    "        return cv2.resize(img, size)\n",
    "    else:\n",
    "        return resize(\n",
    "            img,\n",
    "            size,\n",
    "            mode=\"reflect\"\n",
    "            #anti_aliasing=True\n",
    "        )"
   ]
  },
  {
   "cell_type": "code",
   "execution_count": 7,
   "metadata": {},
   "outputs": [],
   "source": [
    "if USE_CV:\n",
    "    size = (640, 192)\n",
    "else:\n",
    "    size = (192, 640)"
   ]
  },
  {
   "cell_type": "code",
   "execution_count": 8,
   "metadata": {},
   "outputs": [
    {
     "data": {
      "text/plain": [
       "[PosixPath('2011_09_29'),\n",
       " PosixPath('2011_09_30'),\n",
       " PosixPath('2011_09_26'),\n",
       " PosixPath('2011_09_28'),\n",
       " PosixPath('2011_10_03')]"
      ]
     },
     "execution_count": 8,
     "metadata": {},
     "output_type": "execute_result"
    }
   ],
   "source": [
    "roots = Path('.').iterdir()\n",
    "roots=list(roots)\n",
    "roots = [root for root in roots if root.is_dir() and '2011_' in root.name]\n",
    "roots"
   ]
  },
  {
   "cell_type": "markdown",
   "metadata": {},
   "source": [
    "size = (188, 620)\n",
    "#size = (620, 188)\n",
    "for root in roots:\n",
    "    folders = root.glob(\"*_sync\")\n",
    "    for folder in folders:\n",
    "        img02r = folder /'image_02_{}_{}'.format(*size)/'data'\n",
    "        img03r = folder /'image_03_{}_{}'.format(*size)/'data'\n",
    "\n",
    "        for which in (img02r, img03r):\n",
    "            !rm -r {str(which)}"
   ]
  },
  {
   "cell_type": "code",
   "execution_count": 9,
   "metadata": {},
   "outputs": [],
   "source": [
    "from tqdm import tqdm"
   ]
  },
  {
   "cell_type": "code",
   "execution_count": null,
   "metadata": {},
   "outputs": [],
   "source": [
    "timgs0, timgs1, timgs2, paras = [], [], [], []\n",
    "\n",
    "\n",
    "readimgs = []\n",
    "saveimgs = []\n",
    "\n",
    "for root in roots:\n",
    "    folders = root.glob(\"*_sync\")\n",
    "    for folder in folders:\n",
    "        if folder not in eigen_split: continue\n",
    "            \n",
    "        img02 = folder /'image_02'/'data'\n",
    "        img03 = folder /'image_03'/'data'\n",
    "        img02r = folder /'image_02_{}_{}'.format(*size)/'data'\n",
    "        img03r = folder /'image_03_{}_{}'.format(*size)/'data'\n",
    "        \n",
    "        img02r.mkdir(parents=True, exist_ok=True)\n",
    "        img03r.mkdir(parents=True, exist_ok=True)\n",
    "        for which, which_r in ((img02, img02r), (img03, img03r)):\n",
    "            imgs = sorted([img for img in which.iterdir()])\n",
    "            readimgs += imgs\n",
    "            saveimgs += [which_r/img.name for img in imgs]\n",
    "\n",
    "total = len(readimgs); total                "
   ]
  },
  {
   "cell_type": "code",
   "execution_count": null,
   "metadata": {},
   "outputs": [],
   "source": [
    "from multiprocessing import Process, Lock\n",
    "\n",
    "def f(readimgs, saveimgs):\n",
    "    pbar = tqdm(total=len(readimgs))\n",
    "    for img, saveimg in zip(readimgs, saveimgs):\n",
    "        if not saveimg.exists() or FORCE:\n",
    "            resized = resize_img( load_img(str(img)), size)\n",
    "            save_img(str(saveimg), resized)        \n",
    "        pbar.update(1)\n",
    "    pbar.close"
   ]
  },
  {
   "cell_type": "code",
   "execution_count": null,
   "metadata": {},
   "outputs": [],
   "source": [
    "ncores = 6\n",
    "space = int( total / ncores ) + 1 \n",
    "ps = []\n",
    "space"
   ]
  },
  {
   "cell_type": "code",
   "execution_count": null,
   "metadata": {},
   "outputs": [],
   "source": [
    "\n",
    "for num in range(ncores):\n",
    "    p = Process(target=f,\n",
    "                args=(readimgs[space*num: space*(num+1)],\n",
    "                      saveimgs[space*num: space*(num+1)],\n",
    "                      )\n",
    "               )\n",
    "    ps.append(p)\n",
    "    \n",
    "for p in ps: p.start()"
   ]
  },
  {
   "cell_type": "code",
   "execution_count": null,
   "metadata": {},
   "outputs": [],
   "source": [
    "for p in ps: p.close()\n"
   ]
  },
  {
   "cell_type": "code",
   "execution_count": null,
   "metadata": {},
   "outputs": [],
   "source": [
    "from tqdm import tqdm_notebook as tqdm"
   ]
  },
  {
   "cell_type": "code",
   "execution_count": null,
   "metadata": {},
   "outputs": [],
   "source": [
    "pbar = tqdm(total=total)\n",
    "for root in roots:\n",
    "    folders = root.glob(\"*_sync\")\n",
    "    for folder in folders:\n",
    "        if folder not in eigen_split: continue\n",
    "            \n",
    "        img02 = folder /'image_02'/'data'\n",
    "        img03 = folder /'image_03'/'data'\n",
    "        img02r = folder /'image_02_{}_{}'.format(*size)/'data'\n",
    "        img03r = folder /'image_03_{}_{}'.format(*size)/'data'\n",
    "        \n",
    "        img02r.mkdir(parents=True, exist_ok=True)\n",
    "        img03r.mkdir(parents=True, exist_ok=True)\n",
    "        for which, which_r in ((img02, img02r), (img03, img03r)):\n",
    "            imgs = sorted([img for img in which.iterdir()])\n",
    "            \n",
    "            for img in imgs:\n",
    "                img_r = which_r/img.name\n",
    "                if not img_r.exists() or FORCE:\n",
    "                    resized = resize_img( load_img(str(img)), size)\n",
    "                    save_img(str(img_r), resized)\n",
    "                pbar.update(1)\n",
    "pbar.close()"
   ]
  },
  {
   "cell_type": "code",
   "execution_count": null,
   "metadata": {},
   "outputs": [],
   "source": [
    "CAMPARA = namedtuple('campara',['fx','fy','cx','cy'])\n",
    "def get_campara(date):\n",
    "    cam = date/'calib_cam_to_cam.txt'\n",
    "    camret = {}\n",
    "    with cam.open('r') as f:\n",
    "        for l in f:\n",
    "            kv = l.rstrip().split(':')\n",
    "            k, v = kv[0], kv[1]\n",
    "            v= v.split(' ')[1:]\n",
    "            camret[k] = v\n",
    "    cam2para = np.array(tuple(float(e) for e in camret['P_rect_02'])).reshape(3,4)\n",
    "    return CAMPARA(fx = cam2para[0,0], fy = cam2para[1,1], cx = cam2para[0,2], cy = cam2para[1,2])"
   ]
  },
  {
   "cell_type": "code",
   "execution_count": null,
   "metadata": {},
   "outputs": [],
   "source": [
    "def gene_tri(imgs):\n",
    "    return imgs[0:-2], imgs[1:-1], imgs[2:]"
   ]
  },
  {
   "cell_type": "code",
   "execution_count": null,
   "metadata": {},
   "outputs": [],
   "source": [
    "timgs0, timgs1, timgs2, paras = [], [], [], []\n",
    "for root in roots:\n",
    "    para = get_campara(root)\n",
    "    folders = root.glob(\"*_sync\")\n",
    "    for folder in folders:\n",
    "        if folder not in eigen_split: continue\n",
    "            \n",
    "        img02r = folder /'image_02_{}_{}'.format(*size)/'data'\n",
    "        img03r = folder /'image_03_{}_{}'.format(*size)/'data'\n",
    "        \n",
    "        for which in (img02r, img03r):\n",
    "            imgs = sorted([str(img) for img in which.iterdir()])\n",
    "            imgs0, imgs1, imgs2 = gene_tri(imgs)\n",
    "            timgs0 += imgs0\n",
    "            timgs1 += imgs1\n",
    "            timgs2 += imgs2\n",
    "            paras += [para]*len(imgs0)\n",
    "paras = tuple(zip(*paras))"
   ]
  },
  {
   "cell_type": "code",
   "execution_count": null,
   "metadata": {},
   "outputs": [],
   "source": [
    "train = pd.DataFrame(dict(t0=timgs0, t1=timgs1,t2=timgs2,\n",
    "                          fx=paras[0],fy=paras[1],\n",
    "                          cx=paras[2],cy=paras[3])\n",
    "                    )\n",
    "\n",
    "train[['fx','fy','cx','cy']]=train[['fx','fy','cx','cy']]/2"
   ]
  },
  {
   "cell_type": "code",
   "execution_count": null,
   "metadata": {},
   "outputs": [],
   "source": [
    "train.head()\n",
    "\n",
    "val = train.iloc[int(len(train)*0.9):]\n",
    "train = train.iloc[:int(len(train)*0.9)]\n",
    "\n",
    "if USE_CV:\n",
    "    val.to_csv('validation_{1}_{0}.csv'.format(*size), index=False)\n",
    "    train.to_csv('training_{1}_{0}.csv'.format(*size), index=False);\n",
    "else:\n",
    "    val.to_csv('validation_{}_{}.csv'.format(*size), index=False)\n",
    "    train.to_csv('training_{}_{}.csv'.format(*size), index=False);"
   ]
  },
  {
   "cell_type": "code",
   "execution_count": null,
   "metadata": {},
   "outputs": [],
   "source": [
    "train.head()"
   ]
  },
  {
   "cell_type": "code",
   "execution_count": null,
   "metadata": {},
   "outputs": [],
   "source": [
    "val.head()"
   ]
  },
  {
   "cell_type": "markdown",
   "metadata": {},
   "source": [
    "# Remove Static Frame"
   ]
  },
  {
   "cell_type": "code",
   "execution_count": 58,
   "metadata": {},
   "outputs": [],
   "source": [
    "if USE_CV:\n",
    "    train = pd.read_csv('training_{1}_{0}.csv'.format(*size))\n",
    "    val = pd.read_csv('validation_{1}_{0}.csv'.format(*size))\n",
    "else:\n",
    "    train = pd.read_csv('training_{}_{}.csv'.format(*size))\n",
    "    val = pd.read_csv('validation_{}_{}.csv'.format(*size))    "
   ]
  },
  {
   "cell_type": "code",
   "execution_count": 10,
   "metadata": {},
   "outputs": [
    {
     "data": {
      "text/plain": [
       "'2011_09_29/2011_09_29_drive_0071_sync/image_02_640_192/data/0000000000.png'"
      ]
     },
     "execution_count": 10,
     "metadata": {},
     "output_type": "execute_result"
    }
   ],
   "source": [
    "train.loc[0, 't0']"
   ]
  },
  {
   "cell_type": "code",
   "execution_count": 32,
   "metadata": {},
   "outputs": [
    {
     "data": {
      "text/plain": [
       "[]"
      ]
     },
     "execution_count": 32,
     "metadata": {},
     "output_type": "execute_result"
    }
   ],
   "source": [
    "drops"
   ]
  },
  {
   "cell_type": "code",
   "execution_count": 41,
   "metadata": {},
   "outputs": [],
   "source": [
    "staticf = Path('static_frames.txt').open()"
   ]
  },
  {
   "cell_type": "code",
   "execution_count": 42,
   "metadata": {},
   "outputs": [],
   "source": [
    "staticf = staticf.readlines()"
   ]
  },
  {
   "cell_type": "code",
   "execution_count": 43,
   "metadata": {},
   "outputs": [
    {
     "data": {
      "text/plain": [
       "['2011_09_26', '2011_09_26_drive_0009_sync', '0000000386']"
      ]
     },
     "execution_count": 43,
     "metadata": {},
     "output_type": "execute_result"
    }
   ],
   "source": [
    "staticf[0].rstrip().split(' ') "
   ]
  },
  {
   "cell_type": "code",
   "execution_count": 64,
   "metadata": {},
   "outputs": [],
   "source": [
    "staticf_folder = [ \"/\".join( line.rstrip().split(' ')[:-1] ) for line in staticf ]\n",
    "staticf_file = [ line.rstrip().split(' ')[-1]  for line in staticf ]"
   ]
  },
  {
   "cell_type": "code",
   "execution_count": 80,
   "metadata": {},
   "outputs": [],
   "source": [
    "img2, img3 = \"image_02_{0}_{1}\".format(*size), \"image_03_{0}_{1}\".format(*size)"
   ]
  },
  {
   "cell_type": "code",
   "execution_count": 83,
   "metadata": {},
   "outputs": [],
   "source": [
    "count = 0\n",
    "for f, file in zip(staticf_folder, staticf_file):\n",
    "    for img in img2, img3:\n",
    "        path =  Path(f + \"/\" + img + \"/data/\" + file +'.png')\n",
    "        if path.exists(): \n",
    "            path.unlink()\n",
    "            count += 1\n",
    "            \n",
    "count"
   ]
  },
  {
   "cell_type": "code",
   "execution_count": 86,
   "metadata": {},
   "outputs": [],
   "source": [
    "for sheet in (train, val):\n",
    "    drops = [] \n",
    "    for i in range(len(sheet)):\n",
    "        for c in (\"t0\",\"t1\",\"t2\"):\n",
    "            if not Path(sheet.loc[i, c]).exists():\n",
    "                drops.append(i)\n",
    "    sheet.drop(drops, axis=0, inplace=True)"
   ]
  },
  {
   "cell_type": "code",
   "execution_count": 88,
   "metadata": {},
   "outputs": [],
   "source": [
    "if USE_CV:\n",
    "    val.to_csv('validation_{1}_{0}_pre.csv'.format(*size), index=False)\n",
    "    train.to_csv('training_{1}_{0}_pre.csv'.format(*size), index=False);\n",
    "else:\n",
    "    val.to_csv('validation_{}_{}_pre.csv'.format(*size), index=False)\n",
    "    train.to_csv('training_{}_{}_pre.csv'.format(*size), index=False);"
   ]
  },
  {
   "cell_type": "code",
   "execution_count": 89,
   "metadata": {},
   "outputs": [
    {
     "data": {
      "text/plain": [
       "Int64Index([   0,    1,    2,    3,    4,    5,    6,    7,    8,    9,\n",
       "            ...\n",
       "            9460, 9461, 9462, 9463, 9464, 9465, 9466, 9467, 9468, 9469],\n",
       "           dtype='int64', length=9330)"
      ]
     },
     "execution_count": 89,
     "metadata": {},
     "output_type": "execute_result"
    }
   ],
   "source": [
    "val.index"
   ]
  },
  {
   "cell_type": "code",
   "execution_count": 90,
   "metadata": {},
   "outputs": [
    {
     "data": {
      "text/plain": [
       "Int64Index([   17,    18,    19,    20,    21,    22,    23,    24,    25,\n",
       "               26,\n",
       "            ...\n",
       "            85719, 85720, 85721, 85722, 85723, 85724, 85725, 85726, 85727,\n",
       "            85728],\n",
       "           dtype='int64', length=69600)"
      ]
     },
     "execution_count": 90,
     "metadata": {},
     "output_type": "execute_result"
    }
   ],
   "source": [
    "train.index"
   ]
  },
  {
   "cell_type": "code",
   "execution_count": null,
   "metadata": {},
   "outputs": [],
   "source": []
  }
 ],
 "metadata": {
  "kernelspec": {
   "display_name": "Python 3.6",
   "language": "python",
   "name": "python3"
  },
  "language_info": {
   "codemirror_mode": {
    "name": "ipython",
    "version": 3
   },
   "file_extension": ".py",
   "mimetype": "text/x-python",
   "name": "python",
   "nbconvert_exporter": "python",
   "pygments_lexer": "ipython3",
   "version": "3.5.2"
  }
 },
 "nbformat": 4,
 "nbformat_minor": 2
}
