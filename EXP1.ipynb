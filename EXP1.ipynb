{
 "cells": [
  {
   "cell_type": "code",
   "execution_count": 1,
   "metadata": {},
   "outputs": [],
   "source": [
    "#%matplotlib inline\n",
    "%reload_ext autoreload\n",
    "%autoreload 2"
   ]
  },
  {
   "cell_type": "code",
   "execution_count": 2,
   "metadata": {},
   "outputs": [],
   "source": [
    "import sys\n",
    "import os"
   ]
  },
  {
   "cell_type": "code",
   "execution_count": 3,
   "metadata": {},
   "outputs": [],
   "source": [
    "# from fastai.column_data import *\n",
    "# from fastai.conv_learner import *\n",
    "# from fastai.dataset import *\n",
    "from fastai.torch_imports import save_model, load_model"
   ]
  },
  {
   "cell_type": "code",
   "execution_count": 4,
   "metadata": {},
   "outputs": [
    {
     "name": "stderr",
     "output_type": "stream",
     "text": [
      "/home/paperspace/anaconda3/envs/fastai/lib/python3.6/site-packages/sklearn/ensemble/weight_boosting.py:29: DeprecationWarning: numpy.core.umath_tests is an internal NumPy module and should not be imported. It will be removed in a future NumPy release.\n",
      "  from numpy.core.umath_tests import inner1d\n"
     ]
    }
   ],
   "source": [
    "from models import *\n",
    "from utils import *"
   ]
  },
  {
   "cell_type": "code",
   "execution_count": 5,
   "metadata": {},
   "outputs": [
    {
     "name": "stdout",
     "output_type": "stream",
     "text": [
      "validation.csv\r\n",
      "validation_192_640.csv\r\n",
      "training.csv\r\n",
      "validation_192_640_pre.csv\r\n",
      "training_192_640_pre.csv\r\n",
      "training_192_640.csv\r\n"
     ]
    }
   ],
   "source": [
    "ls -f KITTI/ | grep .csv"
   ]
  },
  {
   "cell_type": "code",
   "execution_count": 6,
   "metadata": {},
   "outputs": [],
   "source": [
    "train, val = pd.read_csv('./KITTI/training_192_640_pre.csv'), pd.read_csv('./KITTI/validation_192_640_pre.csv')\n",
    "train, val = shuffle(train), shuffle(val);"
   ]
  },
  {
   "cell_type": "code",
   "execution_count": 7,
   "metadata": {},
   "outputs": [
    {
     "data": {
      "text/html": [
       "<div>\n",
       "<style scoped>\n",
       "    .dataframe tbody tr th:only-of-type {\n",
       "        vertical-align: middle;\n",
       "    }\n",
       "\n",
       "    .dataframe tbody tr th {\n",
       "        vertical-align: top;\n",
       "    }\n",
       "\n",
       "    .dataframe thead th {\n",
       "        text-align: right;\n",
       "    }\n",
       "</style>\n",
       "<table border=\"1\" class=\"dataframe\">\n",
       "  <thead>\n",
       "    <tr style=\"text-align: right;\">\n",
       "      <th></th>\n",
       "      <th>t0</th>\n",
       "      <th>t1</th>\n",
       "      <th>t2</th>\n",
       "      <th>fx</th>\n",
       "      <th>fy</th>\n",
       "      <th>cx</th>\n",
       "      <th>cy</th>\n",
       "    </tr>\n",
       "  </thead>\n",
       "  <tbody>\n",
       "    <tr>\n",
       "      <th>0</th>\n",
       "      <td>2011_09_30/2011_09_30_drive_0028_sync/image_02...</td>\n",
       "      <td>2011_09_30/2011_09_30_drive_0028_sync/image_02...</td>\n",
       "      <td>2011_09_30/2011_09_30_drive_0028_sync/image_02...</td>\n",
       "      <td>364.362615</td>\n",
       "      <td>362.030694</td>\n",
       "      <td>310.151266</td>\n",
       "      <td>93.752525</td>\n",
       "    </tr>\n",
       "    <tr>\n",
       "      <th>1</th>\n",
       "      <td>2011_09_26/2011_09_26_drive_0056_sync/image_02...</td>\n",
       "      <td>2011_09_26/2011_09_26_drive_0056_sync/image_02...</td>\n",
       "      <td>2011_09_26/2011_09_26_drive_0056_sync/image_02...</td>\n",
       "      <td>371.806866</td>\n",
       "      <td>369.427302</td>\n",
       "      <td>314.104631</td>\n",
       "      <td>88.501248</td>\n",
       "    </tr>\n",
       "    <tr>\n",
       "      <th>2</th>\n",
       "      <td>2011_10_03/2011_10_03_drive_0027_sync/image_03...</td>\n",
       "      <td>2011_10_03/2011_10_03_drive_0027_sync/image_03...</td>\n",
       "      <td>2011_10_03/2011_10_03_drive_0027_sync/image_03...</td>\n",
       "      <td>370.424992</td>\n",
       "      <td>368.054272</td>\n",
       "      <td>312.885179</td>\n",
       "      <td>94.830438</td>\n",
       "    </tr>\n",
       "    <tr>\n",
       "      <th>3</th>\n",
       "      <td>2011_09_30/2011_09_30_drive_0028_sync/image_02...</td>\n",
       "      <td>2011_09_30/2011_09_30_drive_0028_sync/image_02...</td>\n",
       "      <td>2011_09_30/2011_09_30_drive_0028_sync/image_02...</td>\n",
       "      <td>364.362615</td>\n",
       "      <td>362.030694</td>\n",
       "      <td>310.151266</td>\n",
       "      <td>93.752525</td>\n",
       "    </tr>\n",
       "    <tr>\n",
       "      <th>4</th>\n",
       "      <td>2011_09_30/2011_09_30_drive_0028_sync/image_02...</td>\n",
       "      <td>2011_09_30/2011_09_30_drive_0028_sync/image_02...</td>\n",
       "      <td>2011_09_30/2011_09_30_drive_0028_sync/image_02...</td>\n",
       "      <td>364.362615</td>\n",
       "      <td>362.030694</td>\n",
       "      <td>310.151266</td>\n",
       "      <td>93.752525</td>\n",
       "    </tr>\n",
       "  </tbody>\n",
       "</table>\n",
       "</div>"
      ],
      "text/plain": [
       "                                                  t0  \\\n",
       "0  2011_09_30/2011_09_30_drive_0028_sync/image_02...   \n",
       "1  2011_09_26/2011_09_26_drive_0056_sync/image_02...   \n",
       "2  2011_10_03/2011_10_03_drive_0027_sync/image_03...   \n",
       "3  2011_09_30/2011_09_30_drive_0028_sync/image_02...   \n",
       "4  2011_09_30/2011_09_30_drive_0028_sync/image_02...   \n",
       "\n",
       "                                                  t1  \\\n",
       "0  2011_09_30/2011_09_30_drive_0028_sync/image_02...   \n",
       "1  2011_09_26/2011_09_26_drive_0056_sync/image_02...   \n",
       "2  2011_10_03/2011_10_03_drive_0027_sync/image_03...   \n",
       "3  2011_09_30/2011_09_30_drive_0028_sync/image_02...   \n",
       "4  2011_09_30/2011_09_30_drive_0028_sync/image_02...   \n",
       "\n",
       "                                                  t2          fx          fy  \\\n",
       "0  2011_09_30/2011_09_30_drive_0028_sync/image_02...  364.362615  362.030694   \n",
       "1  2011_09_26/2011_09_26_drive_0056_sync/image_02...  371.806866  369.427302   \n",
       "2  2011_10_03/2011_10_03_drive_0027_sync/image_03...  370.424992  368.054272   \n",
       "3  2011_09_30/2011_09_30_drive_0028_sync/image_02...  364.362615  362.030694   \n",
       "4  2011_09_30/2011_09_30_drive_0028_sync/image_02...  364.362615  362.030694   \n",
       "\n",
       "           cx         cy  \n",
       "0  310.151266  93.752525  \n",
       "1  314.104631  88.501248  \n",
       "2  312.885179  94.830438  \n",
       "3  310.151266  93.752525  \n",
       "4  310.151266  93.752525  "
      ]
     },
     "execution_count": 7,
     "metadata": {},
     "output_type": "execute_result"
    }
   ],
   "source": [
    "train.head()"
   ]
  },
  {
   "cell_type": "code",
   "execution_count": 8,
   "metadata": {},
   "outputs": [
    {
     "data": {
      "text/html": [
       "<div>\n",
       "<style scoped>\n",
       "    .dataframe tbody tr th:only-of-type {\n",
       "        vertical-align: middle;\n",
       "    }\n",
       "\n",
       "    .dataframe tbody tr th {\n",
       "        vertical-align: top;\n",
       "    }\n",
       "\n",
       "    .dataframe thead th {\n",
       "        text-align: right;\n",
       "    }\n",
       "</style>\n",
       "<table border=\"1\" class=\"dataframe\">\n",
       "  <thead>\n",
       "    <tr style=\"text-align: right;\">\n",
       "      <th></th>\n",
       "      <th>t0</th>\n",
       "      <th>t1</th>\n",
       "      <th>t2</th>\n",
       "      <th>fx</th>\n",
       "      <th>fy</th>\n",
       "      <th>cx</th>\n",
       "      <th>cy</th>\n",
       "    </tr>\n",
       "  </thead>\n",
       "  <tbody>\n",
       "    <tr>\n",
       "      <th>0</th>\n",
       "      <td>2011_09_26/2011_09_26_drive_0101_sync/image_02...</td>\n",
       "      <td>2011_09_26/2011_09_26_drive_0101_sync/image_02...</td>\n",
       "      <td>2011_09_26/2011_09_26_drive_0101_sync/image_02...</td>\n",
       "      <td>371.806866</td>\n",
       "      <td>369.427302</td>\n",
       "      <td>314.104631</td>\n",
       "      <td>88.501248</td>\n",
       "    </tr>\n",
       "    <tr>\n",
       "      <th>1</th>\n",
       "      <td>2011_09_30/2011_09_30_drive_0020_sync/image_03...</td>\n",
       "      <td>2011_09_30/2011_09_30_drive_0020_sync/image_03...</td>\n",
       "      <td>2011_09_30/2011_09_30_drive_0020_sync/image_03...</td>\n",
       "      <td>364.362615</td>\n",
       "      <td>362.030694</td>\n",
       "      <td>310.151266</td>\n",
       "      <td>93.752525</td>\n",
       "    </tr>\n",
       "    <tr>\n",
       "      <th>2</th>\n",
       "      <td>2011_09_26/2011_09_26_drive_0022_sync/image_03...</td>\n",
       "      <td>2011_09_26/2011_09_26_drive_0022_sync/image_03...</td>\n",
       "      <td>2011_09_26/2011_09_26_drive_0022_sync/image_03...</td>\n",
       "      <td>371.806866</td>\n",
       "      <td>369.427302</td>\n",
       "      <td>314.104631</td>\n",
       "      <td>88.501248</td>\n",
       "    </tr>\n",
       "    <tr>\n",
       "      <th>3</th>\n",
       "      <td>2011_09_26/2011_09_26_drive_0091_sync/image_03...</td>\n",
       "      <td>2011_09_26/2011_09_26_drive_0091_sync/image_03...</td>\n",
       "      <td>2011_09_26/2011_09_26_drive_0091_sync/image_03...</td>\n",
       "      <td>371.806866</td>\n",
       "      <td>369.427302</td>\n",
       "      <td>314.104631</td>\n",
       "      <td>88.501248</td>\n",
       "    </tr>\n",
       "    <tr>\n",
       "      <th>4</th>\n",
       "      <td>2011_10_03/2011_10_03_drive_0034_sync/image_02...</td>\n",
       "      <td>2011_10_03/2011_10_03_drive_0034_sync/image_02...</td>\n",
       "      <td>2011_10_03/2011_10_03_drive_0034_sync/image_02...</td>\n",
       "      <td>370.424992</td>\n",
       "      <td>368.054272</td>\n",
       "      <td>312.885179</td>\n",
       "      <td>94.830438</td>\n",
       "    </tr>\n",
       "  </tbody>\n",
       "</table>\n",
       "</div>"
      ],
      "text/plain": [
       "                                                  t0  \\\n",
       "0  2011_09_26/2011_09_26_drive_0101_sync/image_02...   \n",
       "1  2011_09_30/2011_09_30_drive_0020_sync/image_03...   \n",
       "2  2011_09_26/2011_09_26_drive_0022_sync/image_03...   \n",
       "3  2011_09_26/2011_09_26_drive_0091_sync/image_03...   \n",
       "4  2011_10_03/2011_10_03_drive_0034_sync/image_02...   \n",
       "\n",
       "                                                  t1  \\\n",
       "0  2011_09_26/2011_09_26_drive_0101_sync/image_02...   \n",
       "1  2011_09_30/2011_09_30_drive_0020_sync/image_03...   \n",
       "2  2011_09_26/2011_09_26_drive_0022_sync/image_03...   \n",
       "3  2011_09_26/2011_09_26_drive_0091_sync/image_03...   \n",
       "4  2011_10_03/2011_10_03_drive_0034_sync/image_02...   \n",
       "\n",
       "                                                  t2          fx          fy  \\\n",
       "0  2011_09_26/2011_09_26_drive_0101_sync/image_02...  371.806866  369.427302   \n",
       "1  2011_09_30/2011_09_30_drive_0020_sync/image_03...  364.362615  362.030694   \n",
       "2  2011_09_26/2011_09_26_drive_0022_sync/image_03...  371.806866  369.427302   \n",
       "3  2011_09_26/2011_09_26_drive_0091_sync/image_03...  371.806866  369.427302   \n",
       "4  2011_10_03/2011_10_03_drive_0034_sync/image_02...  370.424992  368.054272   \n",
       "\n",
       "           cx         cy  \n",
       "0  314.104631  88.501248  \n",
       "1  310.151266  93.752525  \n",
       "2  314.104631  88.501248  \n",
       "3  314.104631  88.501248  \n",
       "4  312.885179  94.830438  "
      ]
     },
     "execution_count": 8,
     "metadata": {},
     "output_type": "execute_result"
    }
   ],
   "source": [
    "val.head()"
   ]
  },
  {
   "cell_type": "code",
   "execution_count": 9,
   "metadata": {},
   "outputs": [],
   "source": [
    "trn0, trn1, trn2, trn_camera = train.t0, train.t1,train.t2, train[['fx', 'fy', 'cx', 'cy']]\n",
    "val0, val1, val2, val_camera  = val.t0, val.t1, val.t2, val[['fx', 'fy', 'cx', 'cy']]"
   ]
  },
  {
   "cell_type": "code",
   "execution_count": 10,
   "metadata": {},
   "outputs": [
    {
     "data": {
      "text/html": [
       "<div>\n",
       "<style scoped>\n",
       "    .dataframe tbody tr th:only-of-type {\n",
       "        vertical-align: middle;\n",
       "    }\n",
       "\n",
       "    .dataframe tbody tr th {\n",
       "        vertical-align: top;\n",
       "    }\n",
       "\n",
       "    .dataframe thead th {\n",
       "        text-align: right;\n",
       "    }\n",
       "</style>\n",
       "<table border=\"1\" class=\"dataframe\">\n",
       "  <thead>\n",
       "    <tr style=\"text-align: right;\">\n",
       "      <th></th>\n",
       "      <th>fx</th>\n",
       "      <th>fy</th>\n",
       "      <th>cx</th>\n",
       "      <th>cy</th>\n",
       "    </tr>\n",
       "  </thead>\n",
       "  <tbody>\n",
       "    <tr>\n",
       "      <th>0</th>\n",
       "      <td>364.362615</td>\n",
       "      <td>362.030694</td>\n",
       "      <td>310.151266</td>\n",
       "      <td>93.752525</td>\n",
       "    </tr>\n",
       "    <tr>\n",
       "      <th>1</th>\n",
       "      <td>371.806866</td>\n",
       "      <td>369.427302</td>\n",
       "      <td>314.104631</td>\n",
       "      <td>88.501248</td>\n",
       "    </tr>\n",
       "    <tr>\n",
       "      <th>2</th>\n",
       "      <td>370.424992</td>\n",
       "      <td>368.054272</td>\n",
       "      <td>312.885179</td>\n",
       "      <td>94.830438</td>\n",
       "    </tr>\n",
       "    <tr>\n",
       "      <th>3</th>\n",
       "      <td>364.362615</td>\n",
       "      <td>362.030694</td>\n",
       "      <td>310.151266</td>\n",
       "      <td>93.752525</td>\n",
       "    </tr>\n",
       "    <tr>\n",
       "      <th>4</th>\n",
       "      <td>364.362615</td>\n",
       "      <td>362.030694</td>\n",
       "      <td>310.151266</td>\n",
       "      <td>93.752525</td>\n",
       "    </tr>\n",
       "  </tbody>\n",
       "</table>\n",
       "</div>"
      ],
      "text/plain": [
       "           fx          fy          cx         cy\n",
       "0  364.362615  362.030694  310.151266  93.752525\n",
       "1  371.806866  369.427302  314.104631  88.501248\n",
       "2  370.424992  368.054272  312.885179  94.830438\n",
       "3  364.362615  362.030694  310.151266  93.752525\n",
       "4  364.362615  362.030694  310.151266  93.752525"
      ]
     },
     "execution_count": 10,
     "metadata": {},
     "output_type": "execute_result"
    }
   ],
   "source": [
    "trn_camera.head()"
   ]
  },
  {
   "cell_type": "code",
   "execution_count": 11,
   "metadata": {},
   "outputs": [],
   "source": [
    "arch = f\n",
    "bs = 8\n",
    "PATH = 'Fastai_TRN'\n",
    "DPATH = \"KITTI/\"\n",
    "verbose = 500"
   ]
  },
  {
   "cell_type": "code",
   "execution_count": 12,
   "metadata": {},
   "outputs": [
    {
     "data": {
      "text/plain": [
       "<function torchvision.models.resnet.resnet18(pretrained=False, **kwargs)>"
      ]
     },
     "execution_count": 12,
     "metadata": {},
     "output_type": "execute_result"
    }
   ],
   "source": [
    "f"
   ]
  },
  {
   "cell_type": "code",
   "execution_count": 13,
   "metadata": {},
   "outputs": [],
   "source": [
    "trn0, trn1, trn2, trn_camera = train.t0, train.t1,train.t2, train[['fx', 'fy', 'cx', 'cy']]\n",
    "val0, val1, val2, val_camera  = val.t0, val.t1, val.t2, val[['fx', 'fy', 'cx', 'cy']]"
   ]
  },
  {
   "cell_type": "code",
   "execution_count": 14,
   "metadata": {},
   "outputs": [],
   "source": [
    "stats = imagenet_stats\n",
    "tfm_norm = Normalize(*stats, tfm_y=TfmType.NO) \n",
    "tfm_denorm = Denormalize(*stats)"
   ]
  },
  {
   "cell_type": "code",
   "execution_count": 15,
   "metadata": {},
   "outputs": [],
   "source": [
    "trn_tfms = UnScaleTransforms(sz=None, tfms=[], normalizer=tfm_norm, denorm=tfm_denorm, tfm_y=TfmType.NO, sz_y=None)\n",
    "val_tfms = UnScaleTransforms(sz=None, tfms=[], normalizer=tfm_norm, denorm=tfm_denorm, tfm_y=TfmType.NO, sz_y=None)"
   ]
  },
  {
   "cell_type": "code",
   "execution_count": 16,
   "metadata": {},
   "outputs": [],
   "source": [
    "tfms = (trn_tfms, val_tfms)\n",
    "\n",
    "MD1 = get_MD(trn0, val0, tfms, bs, DPATH, PATH)\n",
    "MD2 = get_MD(trn1, val1, tfms, bs, DPATH, PATH)\n",
    "MD3 = get_MD(trn2, val2, tfms, bs, DPATH, PATH)\n",
    "MDcam = get_cam(trn_camera, val_camera, bs)"
   ]
  },
  {
   "cell_type": "code",
   "execution_count": 17,
   "metadata": {},
   "outputs": [],
   "source": [
    "imgnet_mean, imgnet_std = torch.from_numpy(stats[0]).float(), torch.from_numpy(stats[1]).float()\n",
    "imgnet_mean, imgnet_std = imgnet_mean.view(1,3,1,1), imgnet_std.view(1,3,1,1)\n",
    "denorm = denormer(imgnet_mean, imgnet_std)"
   ]
  },
  {
   "cell_type": "code",
   "execution_count": 19,
   "metadata": {},
   "outputs": [],
   "source": [
    "def train(m, opt, MD1, MD2, MD3, MDcam, denorm):\n",
    "    m.train()\n",
    "    DL1, DL2, DL3, DLcam = iter(MD1.trn_dl), iter(MD2.trn_dl), iter(MD3.trn_dl), iter(MDcam.trn_dl)\n",
    "    losses = []  \n",
    "    \n",
    "    #for i in range(2): # just for testing\n",
    "    for i in range(len(MD1.trn_ds)//bs-len(losses)):\n",
    "        opt.zero_grad()\n",
    "        imgs1, imgs2, imgs3, cam = V([next(DL1), next(DL2),next(DL3), next(DLcam)[1]])\n",
    "\n",
    "        d1, d2, d3, trans, rotation, = m(imgs1, imgs2, imgs3)\n",
    "        #pdb.set_trace()\n",
    "        imgs1, imgs2, imgs3 = denorm(imgs1), denorm(imgs2), denorm(imgs3) \n",
    "        #pdb.set_trace()\n",
    "        loss, details = l(d1, d2, d3, trans, rotation, imgs1, imgs2, imgs3, cam)\n",
    "        loss.backward()\n",
    "        opt.step()\n",
    "        losses.append(loss.data[0])\n",
    "        # appr smooth ssim l1\n",
    "        if i%verbose == 0: print(loss.data[0],\n",
    "                                 details[0].data[0],\n",
    "                                 details[1].data[0],\n",
    "                                 details[2].data[0],\n",
    "                                 details[3].data[0],\n",
    "                                 sep='\\t')\n",
    "    return losses"
   ]
  },
  {
   "cell_type": "code",
   "execution_count": 20,
   "metadata": {},
   "outputs": [],
   "source": [
    "def evaluate(m, MD1, MD2, MD3, MDcam, folder):\n",
    "    \n",
    "    DL1, DL2, DL3, DLcam = iter(MD1.val_dl), iter(MD2.val_dl), iter(MD3.val_dl), iter(MDcam.val_dl)\n",
    "    m.eval()\n",
    "    for i in range(3): \n",
    "        imgs1, imgs2, imgs3, cam = V([next(DL1), next(DL2),next(DL3), next(DLcam)[1]], volatile=True)\n",
    "        d1s, d2s, d3s, trans, rotation, = m(imgs1, imgs2, imgs3)\n",
    "        #pdb.set_trace()\n",
    "        imgs1, imgs2, imgs3 = denorm(imgs1, volatile=True), denorm(imgs2, volatile=True), denorm(imgs3, volatile=True) \n",
    "        #pdb.set_trace()\n",
    "        d2 = d2s[0]\n",
    "        # d2 = F.upsample(input=d2, scale_factor=2**di, mode='bilinear')\n",
    "        cx12, cy12, dm12 = l.appr.offset.forward(trans=trans[:,0], rotation=rotation[:,0], inv_depth = d2, camera = cam)\n",
    "        #pdb.set_trace()\n",
    "\n",
    "        x12, ivm12 = l.appr.sampler.forward(imgs1, cx12, cy12)\n",
    "        ivm12.volatile = True\n",
    "\n",
    "        del dm12 \n",
    "        del ivm12\n",
    "        \n",
    "        imgs2 = tonp(imgs2.permute(0,2,3,1))\n",
    "        x12 = tonp(x12.permute(0,2,3,1))\n",
    "        d2 = tonp(d2)\n",
    "        \n",
    "        for j in range(bs):\n",
    "            save_res(imgs2[j], x12[j], d2[j][0], folder/\"{}{}.png\".format(i,j))"
   ]
  },
  {
   "cell_type": "code",
   "execution_count": 21,
   "metadata": {},
   "outputs": [],
   "source": [
    "def fit(epoch, m, opt, MD1, MD2, MD3, MDcam):\n",
    "    for i in range(epoch):\n",
    "        print(\"--------------------epoch {} start:----------------------\".format(i))\n",
    "        losses = train(m, opt, MD1, MD2, MD3, MDcam)\n",
    "        losses= [ str(loss) for loss in losses ]\n",
    "        folder = Path(\"./tmp\")\n",
    "        folder.mkdir(exist_ok=True)\n",
    "        file = folder / 'epoch{}.log'.format(i)\n",
    "        with file.open('w') as f:\n",
    "            f.write(\"\\n\".join(losses))\n",
    "        save_model(m, str(folder / \"epoch{}.M\".format(i)))"
   ]
  },
  {
   "cell_type": "code",
   "execution_count": 22,
   "metadata": {},
   "outputs": [
    {
     "data": {
      "text/plain": [
       "[0, 0.1, 0.2, 0.3, 0.4, 0.5, 0.6, 0.7, 0.8, 0.9, 1]"
      ]
     },
     "execution_count": 22,
     "metadata": {},
     "output_type": "execute_result"
    }
   ],
   "source": [
    "TS = [0, 0.1, 0.2, 0.3, 0.4, 0.5, 0.6, 0.7, 0.8 ,0.9, 1]; TS\n",
    "# don't use linspace or your would get into trouble: need to fix this\n",
    "#TS = [0, 0.15, 0.3, 0.5, 0.75, 0.85, 1]"
   ]
  },
  {
   "cell_type": "code",
   "execution_count": 23,
   "metadata": {},
   "outputs": [],
   "source": [
    "expfolder = Path('./experiment/loss/')\n",
    "expfolder.mkdir(parents=True, exist_ok=True)"
   ]
  },
  {
   "cell_type": "code",
   "execution_count": 24,
   "metadata": {},
   "outputs": [
    {
     "name": "stdout",
     "output_type": "stream",
     "text": [
      "training model 0\n",
      "0.5857985615730286\t0.5736643671989441\t0.012134195305407047\t0.5736643671989441\t0.0\n"
     ]
    },
    {
     "ename": "KeyboardInterrupt",
     "evalue": "",
     "output_type": "error",
     "traceback": [
      "\u001b[0;31m---------------------------------------------------------------------------\u001b[0m",
      "\u001b[0;31mKeyboardInterrupt\u001b[0m                         Traceback (most recent call last)",
      "\u001b[0;32m<ipython-input-24-654f2a921459>\u001b[0m in \u001b[0;36m<module>\u001b[0;34m()\u001b[0m\n\u001b[1;32m      8\u001b[0m     \u001b[0mopt\u001b[0m \u001b[0;34m=\u001b[0m \u001b[0moptim\u001b[0m\u001b[0;34m.\u001b[0m\u001b[0mAdam\u001b[0m\u001b[0;34m(\u001b[0m\u001b[0mfilter\u001b[0m\u001b[0;34m(\u001b[0m\u001b[0;32mlambda\u001b[0m \u001b[0mp\u001b[0m\u001b[0;34m:\u001b[0m \u001b[0mp\u001b[0m\u001b[0;34m.\u001b[0m\u001b[0mrequires_grad\u001b[0m\u001b[0;34m,\u001b[0m \u001b[0mm\u001b[0m\u001b[0;34m.\u001b[0m\u001b[0mparameters\u001b[0m\u001b[0;34m(\u001b[0m\u001b[0;34m)\u001b[0m\u001b[0;34m)\u001b[0m\u001b[0;34m,\u001b[0m \u001b[0mlr\u001b[0m \u001b[0;34m=\u001b[0m\u001b[0;36m1e-4\u001b[0m\u001b[0;34m)\u001b[0m\u001b[0;34m\u001b[0m\u001b[0m\n\u001b[1;32m      9\u001b[0m     \u001b[0mprint\u001b[0m\u001b[0;34m(\u001b[0m\u001b[0;34m\"training model {}\"\u001b[0m\u001b[0;34m.\u001b[0m\u001b[0mformat\u001b[0m\u001b[0;34m(\u001b[0m\u001b[0mts\u001b[0m\u001b[0;34m)\u001b[0m\u001b[0;34m)\u001b[0m\u001b[0;34m\u001b[0m\u001b[0m\n\u001b[0;32m---> 10\u001b[0;31m     \u001b[0mlosses\u001b[0m \u001b[0;34m=\u001b[0m \u001b[0mtrain\u001b[0m\u001b[0;34m(\u001b[0m\u001b[0mm\u001b[0m\u001b[0;34m,\u001b[0m \u001b[0mopt\u001b[0m\u001b[0;34m,\u001b[0m \u001b[0mMD1\u001b[0m\u001b[0;34m,\u001b[0m \u001b[0mMD2\u001b[0m\u001b[0;34m,\u001b[0m \u001b[0mMD3\u001b[0m\u001b[0;34m,\u001b[0m \u001b[0mMDcam\u001b[0m\u001b[0;34m,\u001b[0m \u001b[0mdenorm\u001b[0m\u001b[0;34m)\u001b[0m\u001b[0;34m\u001b[0m\u001b[0m\n\u001b[0m\u001b[1;32m     11\u001b[0m     \u001b[0mprint\u001b[0m\u001b[0;34m(\u001b[0m\u001b[0;34m\"saving model\"\u001b[0m\u001b[0;34m)\u001b[0m\u001b[0;34m\u001b[0m\u001b[0m\n\u001b[1;32m     12\u001b[0m     \u001b[0msave_model\u001b[0m\u001b[0;34m(\u001b[0m\u001b[0mm\u001b[0m\u001b[0;34m,\u001b[0m \u001b[0mthisfolder\u001b[0m\u001b[0;34m/\u001b[0m\u001b[0;34m\"model.M\"\u001b[0m\u001b[0;34m.\u001b[0m\u001b[0mformat\u001b[0m\u001b[0;34m(\u001b[0m\u001b[0mts\u001b[0m\u001b[0;34m)\u001b[0m\u001b[0;34m)\u001b[0m\u001b[0;34m\u001b[0m\u001b[0m\n",
      "\u001b[0;32m<ipython-input-19-80b8b3472a43>\u001b[0m in \u001b[0;36mtrain\u001b[0;34m(m, opt, MD1, MD2, MD3, MDcam, denorm)\u001b[0m\n\u001b[1;32m      7\u001b[0m     \u001b[0;32mfor\u001b[0m \u001b[0mi\u001b[0m \u001b[0;32min\u001b[0m \u001b[0mrange\u001b[0m\u001b[0;34m(\u001b[0m\u001b[0mlen\u001b[0m\u001b[0;34m(\u001b[0m\u001b[0mMD1\u001b[0m\u001b[0;34m.\u001b[0m\u001b[0mtrn_ds\u001b[0m\u001b[0;34m)\u001b[0m\u001b[0;34m//\u001b[0m\u001b[0mbs\u001b[0m\u001b[0;34m-\u001b[0m\u001b[0mlen\u001b[0m\u001b[0;34m(\u001b[0m\u001b[0mlosses\u001b[0m\u001b[0;34m)\u001b[0m\u001b[0;34m)\u001b[0m\u001b[0;34m:\u001b[0m\u001b[0;34m\u001b[0m\u001b[0m\n\u001b[1;32m      8\u001b[0m         \u001b[0mopt\u001b[0m\u001b[0;34m.\u001b[0m\u001b[0mzero_grad\u001b[0m\u001b[0;34m(\u001b[0m\u001b[0;34m)\u001b[0m\u001b[0;34m\u001b[0m\u001b[0m\n\u001b[0;32m----> 9\u001b[0;31m         \u001b[0mimgs1\u001b[0m\u001b[0;34m,\u001b[0m \u001b[0mimgs2\u001b[0m\u001b[0;34m,\u001b[0m \u001b[0mimgs3\u001b[0m\u001b[0;34m,\u001b[0m \u001b[0mcam\u001b[0m \u001b[0;34m=\u001b[0m \u001b[0mV\u001b[0m\u001b[0;34m(\u001b[0m\u001b[0;34m[\u001b[0m\u001b[0mnext\u001b[0m\u001b[0;34m(\u001b[0m\u001b[0mDL1\u001b[0m\u001b[0;34m)\u001b[0m\u001b[0;34m,\u001b[0m \u001b[0mnext\u001b[0m\u001b[0;34m(\u001b[0m\u001b[0mDL2\u001b[0m\u001b[0;34m)\u001b[0m\u001b[0;34m,\u001b[0m\u001b[0mnext\u001b[0m\u001b[0;34m(\u001b[0m\u001b[0mDL3\u001b[0m\u001b[0;34m)\u001b[0m\u001b[0;34m,\u001b[0m \u001b[0mnext\u001b[0m\u001b[0;34m(\u001b[0m\u001b[0mDLcam\u001b[0m\u001b[0;34m)\u001b[0m\u001b[0;34m[\u001b[0m\u001b[0;36m1\u001b[0m\u001b[0;34m]\u001b[0m\u001b[0;34m]\u001b[0m\u001b[0;34m)\u001b[0m\u001b[0;34m\u001b[0m\u001b[0m\n\u001b[0m\u001b[1;32m     10\u001b[0m \u001b[0;34m\u001b[0m\u001b[0m\n\u001b[1;32m     11\u001b[0m         \u001b[0md1\u001b[0m\u001b[0;34m,\u001b[0m \u001b[0md2\u001b[0m\u001b[0;34m,\u001b[0m \u001b[0md3\u001b[0m\u001b[0;34m,\u001b[0m \u001b[0mtrans\u001b[0m\u001b[0;34m,\u001b[0m \u001b[0mrotation\u001b[0m\u001b[0;34m,\u001b[0m \u001b[0;34m=\u001b[0m \u001b[0mm\u001b[0m\u001b[0;34m(\u001b[0m\u001b[0mimgs1\u001b[0m\u001b[0;34m,\u001b[0m \u001b[0mimgs2\u001b[0m\u001b[0;34m,\u001b[0m \u001b[0mimgs3\u001b[0m\u001b[0;34m)\u001b[0m\u001b[0;34m\u001b[0m\u001b[0m\n",
      "\u001b[0;32m~/DepthEst/fastai/dataloader.py\u001b[0m in \u001b[0;36m__iter__\u001b[0;34m(self)\u001b[0m\n\u001b[1;32m     87\u001b[0m                 \u001b[0;32mfor\u001b[0m \u001b[0mc\u001b[0m \u001b[0;32min\u001b[0m \u001b[0mchunk_iter\u001b[0m\u001b[0;34m(\u001b[0m\u001b[0miter\u001b[0m\u001b[0;34m(\u001b[0m\u001b[0mself\u001b[0m\u001b[0;34m.\u001b[0m\u001b[0mbatch_sampler\u001b[0m\u001b[0;34m)\u001b[0m\u001b[0;34m,\u001b[0m \u001b[0mself\u001b[0m\u001b[0;34m.\u001b[0m\u001b[0mnum_workers\u001b[0m\u001b[0;34m*\u001b[0m\u001b[0;36m10\u001b[0m\u001b[0;34m)\u001b[0m\u001b[0;34m:\u001b[0m\u001b[0;34m\u001b[0m\u001b[0m\n\u001b[1;32m     88\u001b[0m                     \u001b[0;32mfor\u001b[0m \u001b[0mbatch\u001b[0m \u001b[0;32min\u001b[0m \u001b[0me\u001b[0m\u001b[0;34m.\u001b[0m\u001b[0mmap\u001b[0m\u001b[0;34m(\u001b[0m\u001b[0mself\u001b[0m\u001b[0;34m.\u001b[0m\u001b[0mget_batch\u001b[0m\u001b[0;34m,\u001b[0m \u001b[0mc\u001b[0m\u001b[0;34m)\u001b[0m\u001b[0;34m:\u001b[0m\u001b[0;34m\u001b[0m\u001b[0m\n\u001b[0;32m---> 89\u001b[0;31m                         \u001b[0;32myield\u001b[0m \u001b[0mget_tensor\u001b[0m\u001b[0;34m(\u001b[0m\u001b[0mbatch\u001b[0m\u001b[0;34m,\u001b[0m \u001b[0mself\u001b[0m\u001b[0;34m.\u001b[0m\u001b[0mpin_memory\u001b[0m\u001b[0;34m,\u001b[0m \u001b[0mself\u001b[0m\u001b[0;34m.\u001b[0m\u001b[0mhalf\u001b[0m\u001b[0;34m)\u001b[0m\u001b[0;34m\u001b[0m\u001b[0m\n\u001b[0m\u001b[1;32m     90\u001b[0m \u001b[0;34m\u001b[0m\u001b[0m\n",
      "\u001b[0;32m~/DepthEst/fastai/dataloader.py\u001b[0m in \u001b[0;36mget_tensor\u001b[0;34m(batch, pin, half)\u001b[0m\n\u001b[1;32m     10\u001b[0m \u001b[0;32mdef\u001b[0m \u001b[0mget_tensor\u001b[0m\u001b[0;34m(\u001b[0m\u001b[0mbatch\u001b[0m\u001b[0;34m,\u001b[0m \u001b[0mpin\u001b[0m\u001b[0;34m,\u001b[0m \u001b[0mhalf\u001b[0m\u001b[0;34m=\u001b[0m\u001b[0;32mFalse\u001b[0m\u001b[0;34m)\u001b[0m\u001b[0;34m:\u001b[0m\u001b[0;34m\u001b[0m\u001b[0m\n\u001b[1;32m     11\u001b[0m     \u001b[0;32mif\u001b[0m \u001b[0misinstance\u001b[0m\u001b[0;34m(\u001b[0m\u001b[0mbatch\u001b[0m\u001b[0;34m,\u001b[0m \u001b[0;34m(\u001b[0m\u001b[0mnp\u001b[0m\u001b[0;34m.\u001b[0m\u001b[0mndarray\u001b[0m\u001b[0;34m,\u001b[0m \u001b[0mnp\u001b[0m\u001b[0;34m.\u001b[0m\u001b[0mgeneric\u001b[0m\u001b[0;34m)\u001b[0m\u001b[0;34m)\u001b[0m\u001b[0;34m:\u001b[0m\u001b[0;34m\u001b[0m\u001b[0m\n\u001b[0;32m---> 12\u001b[0;31m         \u001b[0mbatch\u001b[0m \u001b[0;34m=\u001b[0m \u001b[0mT\u001b[0m\u001b[0;34m(\u001b[0m\u001b[0mbatch\u001b[0m\u001b[0;34m,\u001b[0m \u001b[0mhalf\u001b[0m\u001b[0;34m=\u001b[0m\u001b[0mhalf\u001b[0m\u001b[0;34m,\u001b[0m \u001b[0mcuda\u001b[0m\u001b[0;34m=\u001b[0m\u001b[0;32mFalse\u001b[0m\u001b[0;34m)\u001b[0m\u001b[0;34m.\u001b[0m\u001b[0mcontiguous\u001b[0m\u001b[0;34m(\u001b[0m\u001b[0;34m)\u001b[0m\u001b[0;34m\u001b[0m\u001b[0m\n\u001b[0m\u001b[1;32m     13\u001b[0m         \u001b[0;32mif\u001b[0m \u001b[0mpin\u001b[0m\u001b[0;34m:\u001b[0m \u001b[0mbatch\u001b[0m \u001b[0;34m=\u001b[0m \u001b[0mbatch\u001b[0m\u001b[0;34m.\u001b[0m\u001b[0mpin_memory\u001b[0m\u001b[0;34m(\u001b[0m\u001b[0;34m)\u001b[0m\u001b[0;34m\u001b[0m\u001b[0m\n\u001b[1;32m     14\u001b[0m         \u001b[0;32mreturn\u001b[0m \u001b[0mto_gpu\u001b[0m\u001b[0;34m(\u001b[0m\u001b[0mbatch\u001b[0m\u001b[0;34m)\u001b[0m\u001b[0;34m\u001b[0m\u001b[0m\n",
      "\u001b[0;32m~/DepthEst/fastai/core.py\u001b[0m in \u001b[0;36mT\u001b[0;34m(a, half, cuda)\u001b[0m\n\u001b[1;32m     33\u001b[0m     \"\"\"\n\u001b[1;32m     34\u001b[0m     \u001b[0;32mif\u001b[0m \u001b[0;32mnot\u001b[0m \u001b[0mtorch\u001b[0m\u001b[0;34m.\u001b[0m\u001b[0mis_tensor\u001b[0m\u001b[0;34m(\u001b[0m\u001b[0ma\u001b[0m\u001b[0;34m)\u001b[0m\u001b[0;34m:\u001b[0m\u001b[0;34m\u001b[0m\u001b[0m\n\u001b[0;32m---> 35\u001b[0;31m         \u001b[0ma\u001b[0m \u001b[0;34m=\u001b[0m \u001b[0mnp\u001b[0m\u001b[0;34m.\u001b[0m\u001b[0marray\u001b[0m\u001b[0;34m(\u001b[0m\u001b[0mnp\u001b[0m\u001b[0;34m.\u001b[0m\u001b[0mascontiguousarray\u001b[0m\u001b[0;34m(\u001b[0m\u001b[0ma\u001b[0m\u001b[0;34m)\u001b[0m\u001b[0;34m)\u001b[0m\u001b[0;34m\u001b[0m\u001b[0m\n\u001b[0m\u001b[1;32m     36\u001b[0m         \u001b[0;32mif\u001b[0m \u001b[0ma\u001b[0m\u001b[0;34m.\u001b[0m\u001b[0mdtype\u001b[0m \u001b[0;32min\u001b[0m \u001b[0;34m(\u001b[0m\u001b[0mnp\u001b[0m\u001b[0;34m.\u001b[0m\u001b[0mint8\u001b[0m\u001b[0;34m,\u001b[0m \u001b[0mnp\u001b[0m\u001b[0;34m.\u001b[0m\u001b[0mint16\u001b[0m\u001b[0;34m,\u001b[0m \u001b[0mnp\u001b[0m\u001b[0;34m.\u001b[0m\u001b[0mint32\u001b[0m\u001b[0;34m,\u001b[0m \u001b[0mnp\u001b[0m\u001b[0;34m.\u001b[0m\u001b[0mint64\u001b[0m\u001b[0;34m)\u001b[0m\u001b[0;34m:\u001b[0m\u001b[0;34m\u001b[0m\u001b[0m\n\u001b[1;32m     37\u001b[0m             \u001b[0ma\u001b[0m \u001b[0;34m=\u001b[0m \u001b[0mtorch\u001b[0m\u001b[0;34m.\u001b[0m\u001b[0mLongTensor\u001b[0m\u001b[0;34m(\u001b[0m\u001b[0ma\u001b[0m\u001b[0;34m.\u001b[0m\u001b[0mastype\u001b[0m\u001b[0;34m(\u001b[0m\u001b[0mnp\u001b[0m\u001b[0;34m.\u001b[0m\u001b[0mint64\u001b[0m\u001b[0;34m)\u001b[0m\u001b[0;34m)\u001b[0m\u001b[0;34m\u001b[0m\u001b[0m\n",
      "\u001b[0;32m~/anaconda3/envs/fastai/lib/python3.6/site-packages/numpy/core/numeric.py\u001b[0m in \u001b[0;36mascontiguousarray\u001b[0;34m(a, dtype)\u001b[0m\n\u001b[1;32m    588\u001b[0m \u001b[0;34m\u001b[0m\u001b[0m\n\u001b[1;32m    589\u001b[0m     \"\"\"\n\u001b[0;32m--> 590\u001b[0;31m     \u001b[0;32mreturn\u001b[0m \u001b[0marray\u001b[0m\u001b[0;34m(\u001b[0m\u001b[0ma\u001b[0m\u001b[0;34m,\u001b[0m \u001b[0mdtype\u001b[0m\u001b[0;34m,\u001b[0m \u001b[0mcopy\u001b[0m\u001b[0;34m=\u001b[0m\u001b[0;32mFalse\u001b[0m\u001b[0;34m,\u001b[0m \u001b[0morder\u001b[0m\u001b[0;34m=\u001b[0m\u001b[0;34m'C'\u001b[0m\u001b[0;34m,\u001b[0m \u001b[0mndmin\u001b[0m\u001b[0;34m=\u001b[0m\u001b[0;36m1\u001b[0m\u001b[0;34m)\u001b[0m\u001b[0;34m\u001b[0m\u001b[0m\n\u001b[0m\u001b[1;32m    591\u001b[0m \u001b[0;34m\u001b[0m\u001b[0m\n\u001b[1;32m    592\u001b[0m \u001b[0;34m\u001b[0m\u001b[0m\n",
      "\u001b[0;31mKeyboardInterrupt\u001b[0m: "
     ]
    }
   ],
   "source": [
    "for ts in TS:\n",
    "    thisfolder = expfolder / \"tscale_{}\".format(ts)\n",
    "    thisfolder.mkdir(exist_ok=True)\n",
    "    \n",
    "    m = TriDepth(get_resnet(), 1).cuda()\n",
    "#     set_trainable(m.depth.rn, False)\n",
    "    l = Loss(scale=1, Tscale=ts).cuda()\n",
    "    opt = optim.Adam(filter(lambda p: p.requires_grad, m.parameters()), lr =1e-4)\n",
    "    print(\"training model {}\".format(ts))\n",
    "    losses = train(m, opt, MD1, MD2, MD3, MDcam, denorm)\n",
    "    print(\"saving model\")\n",
    "    save_model(m, thisfolder/\"model.M\".format(ts))\n",
    "    print(\"writting log\")\n",
    "    logger = thisfolder/\"log\"\n",
    "    losses = [ str(loss) for loss in losses]\n",
    "    with logger.open('w') as f: f.write(\"\\n\".join(losses))\n",
    "    print(\"predicting\")    \n",
    "    predictfolder = thisfolder/'predicts'\n",
    "    predictfolder.mkdir(exist_ok=True)\n",
    "    evaluate(m, MD1, MD2, MD3, MDcam, predictfolder)"
   ]
  },
  {
   "cell_type": "markdown",
   "metadata": {},
   "source": [
    "for ts in TS:\n",
    "    thisfolder = expfolder / \"tscale_{}\".format(ts)\n",
    "    thisfolder.mkdir(exist_ok=True)\n",
    "    m = TriDepth(get_base(), 1).cuda()\n",
    "    load_model(m, thisfolder/\"model.M\".format(ts))\n",
    "    l = Loss(scale=1, Tscale=ts).cuda()\n",
    "    print(\"predicting\")    \n",
    "    predictfolder = thisfolder/'predicts'\n",
    "    predictfolder.mkdir(exist_ok=True)\n",
    "    evaluate(m, MD1, MD2, MD3, MDcam, predictfolder)"
   ]
  },
  {
   "cell_type": "code",
   "execution_count": null,
   "metadata": {},
   "outputs": [],
   "source": [
    "DL1, DL2, DL3, DLcam = iter(MD1.val_dl), iter(MD2.val_dl), iter(MD3.val_dl), iter(MDcam.val_dl)\n",
    "m.eval()\n"
   ]
  },
  {
   "cell_type": "code",
   "execution_count": null,
   "metadata": {},
   "outputs": [],
   "source": [
    "imgs1, imgs2, imgs3, cam = V([next(DL1), next(DL2),next(DL3), next(DLcam)[1]], volatile=True)\n",
    "d1s, d2s, d3s, trans, rotation, = m(imgs1, imgs2, imgs3)\n",
    "        "
   ]
  },
  {
   "cell_type": "code",
   "execution_count": null,
   "metadata": {},
   "outputs": [],
   "source": [
    "d2s[0].min(), d2s[0].max()"
   ]
  },
  {
   "cell_type": "code",
   "execution_count": null,
   "metadata": {},
   "outputs": [],
   "source": []
  }
 ],
 "metadata": {
  "kernelspec": {
   "display_name": "Python 3",
   "language": "python",
   "name": "python3"
  },
  "language_info": {
   "codemirror_mode": {
    "name": "ipython",
    "version": 3
   },
   "file_extension": ".py",
   "mimetype": "text/x-python",
   "name": "python",
   "nbconvert_exporter": "python",
   "pygments_lexer": "ipython3",
   "version": "3.6.6"
  }
 },
 "nbformat": 4,
 "nbformat_minor": 2
}
